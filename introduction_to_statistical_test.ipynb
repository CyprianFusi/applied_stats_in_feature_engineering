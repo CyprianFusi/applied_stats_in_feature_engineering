{
 "cells": [
  {
   "cell_type": "markdown",
   "id": "412b856a",
   "metadata": {},
   "source": [
    "### Statistical Hypothesis Test\n",
    "Statistical analysis or studies are always done using **samples** drawn from a **population**. It is either impossible to collect data from all members of the population or the data might be too large to fit into memory during analysis. We therefore use the sample statistics to make conclusions or inference about the population. But there is always uncertainties associated with the sample statistics and this means the inferences made about the population based on the sample might be wrong! It is therefore necessary to make sure that the sample, truely, is a good representation of the population under study. This calls for a **Statistical Hypothesis Test** to be conducted on the sample(s).\n",
    "\n",
    "For example we use **Statistical Hypothesis Test** to find out whether a **sample mean** ($\\bar{x}$) indeed is the same as the **population mean** ($\\mu$) or whether the **sample standard deviation** ($s$) is the same as the **population standard deviation** ($\\sigma$).\n",
    "\n",
    "* Note that unlike sample parameters (e.g $\\bar{x}$ and $s$) the **population parameters** are indicated using Greek symbols (e.g $\\mu$ and $\\sigma$) because they are unknown (they are *Greek* to us)!\n",
    "\n",
    "It is also worth noting that there are two man types of Statistical Hypothesis Test: **parametric and non-parametric**.\n",
    "**Parametric** hypthosis test assumes that the sample is normally or Gaussian dsitributed and therefore apply the well known and well studies **parameters** of the Gaussian distribution. If the sample is not normally distribution the **non-parametric** hypothesis test is used.\n",
    "\n",
    "Scipy's **stats** module includes several functions that can be used for **Statistical Hypothesis Test** as demonstrated in the examples in theis notebook."
   ]
  },
  {
   "cell_type": "markdown",
   "id": "52f62326",
   "metadata": {},
   "source": [
    "### Load the necessary packages"
   ]
  },
  {
   "cell_type": "code",
   "execution_count": 1,
   "id": "d6b24964",
   "metadata": {},
   "outputs": [],
   "source": [
    "import numpy as np\n",
    "import pandas as pd\n",
    "import matplotlib.pyplot as plt\n",
    "import seaborn as sns\n",
    "from scipy import stats \n",
    "import statsmodels.api as sm\n",
    "from statsmodels.formula.api import ols\n",
    "\n",
    "sns.set(color_codes = True) "
   ]
  },
  {
   "cell_type": "markdown",
   "id": "40958670",
   "metadata": {},
   "source": [
    "#### Load the data"
   ]
  },
  {
   "cell_type": "code",
   "execution_count": 9,
   "id": "05ad59be",
   "metadata": {},
   "outputs": [
    {
     "data": {
      "text/html": [
       "<div>\n",
       "<style scoped>\n",
       "    .dataframe tbody tr th:only-of-type {\n",
       "        vertical-align: middle;\n",
       "    }\n",
       "\n",
       "    .dataframe tbody tr th {\n",
       "        vertical-align: top;\n",
       "    }\n",
       "\n",
       "    .dataframe thead th {\n",
       "        text-align: right;\n",
       "    }\n",
       "</style>\n",
       "<table border=\"1\" class=\"dataframe\">\n",
       "  <thead>\n",
       "    <tr style=\"text-align: right;\">\n",
       "      <th></th>\n",
       "      <th>customer_ID</th>\n",
       "      <th>spend</th>\n",
       "      <th>type</th>\n",
       "    </tr>\n",
       "  </thead>\n",
       "  <tbody>\n",
       "    <tr>\n",
       "      <th>451</th>\n",
       "      <td>88</td>\n",
       "      <td>616.0</td>\n",
       "      <td>B</td>\n",
       "    </tr>\n",
       "    <tr>\n",
       "      <th>596</th>\n",
       "      <td>322</td>\n",
       "      <td>789.4</td>\n",
       "      <td>B</td>\n",
       "    </tr>\n",
       "    <tr>\n",
       "      <th>134</th>\n",
       "      <td>554</td>\n",
       "      <td>793.8</td>\n",
       "      <td>P</td>\n",
       "    </tr>\n",
       "    <tr>\n",
       "      <th>627</th>\n",
       "      <td>194</td>\n",
       "      <td>894.9</td>\n",
       "      <td>B</td>\n",
       "    </tr>\n",
       "    <tr>\n",
       "      <th>349</th>\n",
       "      <td>78</td>\n",
       "      <td>504.7</td>\n",
       "      <td>B</td>\n",
       "    </tr>\n",
       "    <tr>\n",
       "      <th>368</th>\n",
       "      <td>293</td>\n",
       "      <td>522.1</td>\n",
       "      <td>B</td>\n",
       "    </tr>\n",
       "    <tr>\n",
       "      <th>190</th>\n",
       "      <td>604</td>\n",
       "      <td>873.2</td>\n",
       "      <td>P</td>\n",
       "    </tr>\n",
       "    <tr>\n",
       "      <th>304</th>\n",
       "      <td>202</td>\n",
       "      <td>279.3</td>\n",
       "      <td>B</td>\n",
       "    </tr>\n",
       "    <tr>\n",
       "      <th>503</th>\n",
       "      <td>101</td>\n",
       "      <td>661.8</td>\n",
       "      <td>B</td>\n",
       "    </tr>\n",
       "    <tr>\n",
       "      <th>449</th>\n",
       "      <td>183</td>\n",
       "      <td>613.3</td>\n",
       "      <td>B</td>\n",
       "    </tr>\n",
       "  </tbody>\n",
       "</table>\n",
       "</div>"
      ],
      "text/plain": [
       "     customer_ID  spend type\n",
       "451           88  616.0    B\n",
       "596          322  789.4    B\n",
       "134          554  793.8    P\n",
       "627          194  894.9    B\n",
       "349           78  504.7    B\n",
       "368          293  522.1    B\n",
       "190          604  873.2    P\n",
       "304          202  279.3    B\n",
       "503          101  661.8    B\n",
       "449          183  613.3    B"
      ]
     },
     "execution_count": 9,
     "metadata": {},
     "output_type": "execute_result"
    }
   ],
   "source": [
    "path = '../data/camp.csv'\n",
    "camp_df = pd.read_csv(path, na_values = 'NA')\n",
    "camp_df.sample(10)"
   ]
  },
  {
   "cell_type": "markdown",
   "id": "70a7858a",
   "metadata": {},
   "source": [
    "#### Get the two sample groups (P = post, B = before)"
   ]
  },
  {
   "cell_type": "code",
   "execution_count": 4,
   "id": "027e4e9f",
   "metadata": {},
   "outputs": [],
   "source": [
    "post = camp_df[camp_df['type'] == 'P']['spend']               # camp_df[camp_df.type == 'P'].spend\n",
    "before = camp_df[camp_df['type'] == 'B']['spend']"
   ]
  },
  {
   "cell_type": "markdown",
   "id": "c81cfe18",
   "metadata": {},
   "source": [
    "**Are the two sample normally distributed?**"
   ]
  },
  {
   "cell_type": "code",
   "execution_count": 5,
   "id": "6c560aea",
   "metadata": {},
   "outputs": [
    {
     "data": {
      "image/png": "[encoded data removed]",
      "text/plain": [
       "<Figure size 864x360 with 2 Axes>"
      ]
     },
     "metadata": {},
     "output_type": "display_data"
    }
   ],
   "source": [
    "# sns.distplot(post)       # distplot() function is now formally deprecated\n",
    "# sns.distplot(before)\n",
    "fig, axes = plt.subplots(1, 2, figsize = (12, 5), sharey = True)\n",
    "sns.histplot(post, kde = True, ax = axes[0]); \n",
    "sns.histplot(before, kde = True, ax = axes[1])\n",
    "plt.show()"
   ]
  },
  {
   "cell_type": "markdown",
   "id": "0d62dd60",
   "metadata": {},
   "source": [
    "The **sample** or **t-distributions** are similar and they are **normal** or **gausian** distributions.\n",
    "\n",
    "### t-Test\n",
    "Test that the **mean** of two sample groups are **equal (mu1 = mu2)**"
   ]
  },
  {
   "cell_type": "code",
   "execution_count": 10,
   "id": "397d48c1",
   "metadata": {},
   "outputs": [
    {
     "name": "stdout",
     "output_type": "stream",
     "text": [
      "test statistic or t-test = 16.7275, pvalue = 0.0\n"
     ]
    }
   ],
   "source": [
    "test_stat, p_value = stats.ttest_ind(post, before)\n",
    "print(f'test statistic or t-test = {round(test_stat, 4)}, pvalue = {round(p_value, 4)}')"
   ]
  },
  {
   "cell_type": "markdown",
   "id": "6b909cb8",
   "metadata": {},
   "source": [
    "The **pvalue = 0.0** is the **probability** that if a value is picked randomly from the **t-distibution** the value would be **larger** than **t-statistic = 16.7275**. This probability is **very small** and therefore **unlikely**! This suggests the difference in the **mean value** between both **before** and **post** groups is very large. **We should therefore reject `H0` which assumes that the mean spending of both before and post groups are equal**."
   ]
  },
  {
   "cell_type": "code",
   "execution_count": 7,
   "id": "fde421f6",
   "metadata": {},
   "outputs": [
    {
     "name": "stdout",
     "output_type": "stream",
     "text": [
      "Significant result! The spending attitude before and after campaign are different (reject H0)\n"
     ]
    }
   ],
   "source": [
    "alpha = 0.05\n",
    "if p_value <= alpha:\n",
    "    print('Significant result! The spending attitude before and after campaign are different (reject H0)')\n",
    "else:\n",
    "    print('Not significant result! The spending attitude before and after campaign are similar (fail to reject H0)')"
   ]
  },
  {
   "cell_type": "markdown",
   "id": "46047248",
   "metadata": {},
   "source": [
    "### Non-parametric Statistical tests\n",
    "#### Mann-Whitney U test and Rank Sums test\n",
    "This test is an example of **non-parametric** test because **no distribution information** (normal or non-normal) is needed. It can also be used to test for the **equality in mean** for two sample groups of data.\n",
    "\n",
    "* Pool two samples (with sample size **n1** and **n2**), one from each population or group and **rank** each sample\n",
    "* **Sum the ranks** of each sample, which gives **r1** and **r2**\n",
    "* compute U-statistics `U1 = r1 - n1*(n1+1)/2 and U2 = r2 - n2*(n2+1)/2`\n",
    "* Choose the **smaller of U1 and U2** as the test statistics **U** to consult **significance table (p-values)**\n",
    "\n",
    "#### Rank Sums test"
   ]
  },
  {
   "cell_type": "code",
   "execution_count": 11,
   "id": "c456973e",
   "metadata": {},
   "outputs": [
    {
     "name": "stdout",
     "output_type": "stream",
     "text": [
      "test statistic or U-test = 14.2171, pvalue = 0.0\n",
      "Significant result! The spending attitude before and after campaign are different (reject H0)\n"
     ]
    }
   ],
   "source": [
    "path = '../data/camp.csv'\n",
    "camp_df = pd.read_csv(path, na_values = 'NA')\n",
    "\n",
    "post = camp_df[camp_df['type'] == 'P']['spend']       # first sample             \n",
    "before = camp_df[camp_df['type'] == 'B']['spend']     # second sample\n",
    "\n",
    "test_stat, p_value = stats.ranksums(post, before)\n",
    "print(f'test statistic or U-test = {round(test_stat, 4)}, pvalue = {round(p_value, 4)}')\n",
    "\n",
    "alpha = 0.05\n",
    "if p_value <= alpha:\n",
    "    print('Significant result! The spending attitude before and after campaign are different (reject H0)')\n",
    "else:\n",
    "    print('Not significant result! The spending attitude before and after campaign are similar (fail to reject H0)')"
   ]
  },
  {
   "cell_type": "markdown",
   "id": "b43b29f2",
   "metadata": {},
   "source": [
    "### Mann-Whitney U test"
   ]
  },
  {
   "cell_type": "code",
   "execution_count": 14,
   "id": "79f5b3b2",
   "metadata": {},
   "outputs": [
    {
     "name": "stdout",
     "output_type": "stream",
     "text": [
      "test statistic or U-test = 82234.5, pvalue = 0.0\n",
      "Significant result! The spending attitude before and after campaign are different (reject H0)\n"
     ]
    }
   ],
   "source": [
    "test_stat, p_value = stats.mannwhitneyu(post, before)\n",
    "print(f'test statistic or U-test = {round(test_stat, 4)}, pvalue = {round(p_value, 4)}')\n",
    "\n",
    "alpha = 0.05\n",
    "if p_value <= alpha:\n",
    "    print('Significant result! The spending attitude before and after campaign are different (reject H0)')\n",
    "else:\n",
    "    print('Not significant result! The spending attitude before and after campaign are similar (fail to reject H0)')"
   ]
  },
  {
   "cell_type": "markdown",
   "id": "2f92ba1c",
   "metadata": {},
   "source": [
    "###  ANalysis Of VAriance (ANOVA ): Used for more than 2 samples\n",
    "**ANOVA** under the hood is a collection of statistical models used to analyze the differences among group **means** and **variation** among and between groups.\n",
    "\n",
    "* When **sample groups is greater than 2** we use **f-test**, also know as ANOVA (**AN**alysis **O**f **VA**riance). \n",
    "* It also assumes samples are **normally distributed**\n",
    "* An **f-test** for **two sample groups** is equivalent to a **t-test**\n",
    "* **f-test** or **ANOVA** is an extension of two-sample **t-test**\n",
    "\n",
    "**f-test** or **ANOVA** tests the **variations in the means** of a group of sample groups. ANOVA is to test the following hypothesis:\n",
    "\n",
    "* **H0**: Variance among groups $= 0$. This implies $\\mu_1 = \\mu_2 = \\mu_3 = ...\\mu_k$ (**equal means**)\n",
    "* **H1**: Variance among groups $\\neq 0$. This implies **at least one mean is different**.\n",
    "\n",
    "**Between-group Sum of Squares (SSB)** measures the difference in average values of major effect among sample group. This is done by measuring the **sum of squared deviations between each sample mean to the overall mean score**.\n",
    "\n",
    "$f-test = \\frac{(Mean Square Between groups or MSB)}{(Mean Square Within groups or MSW)}$\n",
    "\n",
    "* The larger **MSB** or smaller **MSW** the `larger` **f-test** and the `smaller` the **pvalue** indicating the **difference between the groups is significant (reject H0)**.\n",
    "* The smaller **MSB** or larger **MSW** the `smaller` **f-test** and the `larger` the **pvalue** indicating the **there is no difference between the groups (fail to reject H0)**.\n",
    "\n",
    "### Case Study: Compare Net Collection Rate\n",
    "The net **collection rate** is the **percentage of money collected** by a collection agency **divided by its total charges**, excluding write-offs. For example a net collection rate of **63%** implies that the Collection Agency collects **USD 0.63 for every dollar it charges**. If the **collection rate is too high it indicates a problem with the collection process** while if its **too low it means the collection charge is too high**. A bank wants to compare the net collection rates among several agencies by answering the following questions:\n",
    "\n",
    "* **What kind of statistical procedure should be used**?\n",
    "* **Interpret result based on the analysis**"
   ]
  },
  {
   "cell_type": "code",
   "execution_count": 15,
   "id": "337b1542",
   "metadata": {},
   "outputs": [
    {
     "data": {
      "text/html": [
       "<div>\n",
       "<style scoped>\n",
       "    .dataframe tbody tr th:only-of-type {\n",
       "        vertical-align: middle;\n",
       "    }\n",
       "\n",
       "    .dataframe tbody tr th {\n",
       "        vertical-align: top;\n",
       "    }\n",
       "\n",
       "    .dataframe thead th {\n",
       "        text-align: right;\n",
       "    }\n",
       "</style>\n",
       "<table border=\"1\" class=\"dataframe\">\n",
       "  <thead>\n",
       "    <tr style=\"text-align: right;\">\n",
       "      <th></th>\n",
       "      <th>c_type</th>\n",
       "      <th>id</th>\n",
       "      <th>rate</th>\n",
       "      <th>c_name</th>\n",
       "    </tr>\n",
       "  </thead>\n",
       "  <tbody>\n",
       "    <tr>\n",
       "      <th>146</th>\n",
       "      <td>AII</td>\n",
       "      <td>26</td>\n",
       "      <td>0.52</td>\n",
       "      <td>Allied Interstate Inc</td>\n",
       "    </tr>\n",
       "    <tr>\n",
       "      <th>106</th>\n",
       "      <td>CW</td>\n",
       "      <td>85</td>\n",
       "      <td>0.32</td>\n",
       "      <td>Caine &amp; Weiner</td>\n",
       "    </tr>\n",
       "    <tr>\n",
       "      <th>174</th>\n",
       "      <td>RCL</td>\n",
       "      <td>123</td>\n",
       "      <td>0.70</td>\n",
       "      <td>Regency Credit LLC</td>\n",
       "    </tr>\n",
       "    <tr>\n",
       "      <th>10</th>\n",
       "      <td>RCL</td>\n",
       "      <td>130</td>\n",
       "      <td>0.05</td>\n",
       "      <td>Regency Credit LLC</td>\n",
       "    </tr>\n",
       "    <tr>\n",
       "      <th>65</th>\n",
       "      <td>CW</td>\n",
       "      <td>129</td>\n",
       "      <td>0.21</td>\n",
       "      <td>Caine &amp; Weiner</td>\n",
       "    </tr>\n",
       "    <tr>\n",
       "      <th>195</th>\n",
       "      <td>AII</td>\n",
       "      <td>28</td>\n",
       "      <td>0.69</td>\n",
       "      <td>Allied Interstate Inc</td>\n",
       "    </tr>\n",
       "    <tr>\n",
       "      <th>94</th>\n",
       "      <td>RCL</td>\n",
       "      <td>57</td>\n",
       "      <td>0.28</td>\n",
       "      <td>Regency Credit LLC</td>\n",
       "    </tr>\n",
       "    <tr>\n",
       "      <th>12</th>\n",
       "      <td>AII</td>\n",
       "      <td>93</td>\n",
       "      <td>0.06</td>\n",
       "      <td>Allied Interstate Inc</td>\n",
       "    </tr>\n",
       "    <tr>\n",
       "      <th>136</th>\n",
       "      <td>CW</td>\n",
       "      <td>102</td>\n",
       "      <td>0.45</td>\n",
       "      <td>Caine &amp; Weiner</td>\n",
       "    </tr>\n",
       "    <tr>\n",
       "      <th>108</th>\n",
       "      <td>RCL</td>\n",
       "      <td>62</td>\n",
       "      <td>0.32</td>\n",
       "      <td>Regency Credit LLC</td>\n",
       "    </tr>\n",
       "  </tbody>\n",
       "</table>\n",
       "</div>"
      ],
      "text/plain": [
       "    c_type   id  rate                 c_name\n",
       "146    AII   26  0.52  Allied Interstate Inc\n",
       "106     CW   85  0.32         Caine & Weiner\n",
       "174    RCL  123  0.70     Regency Credit LLC\n",
       "10     RCL  130  0.05     Regency Credit LLC\n",
       "65      CW  129  0.21         Caine & Weiner\n",
       "195    AII   28  0.69  Allied Interstate Inc\n",
       "94     RCL   57  0.28     Regency Credit LLC\n",
       "12     AII   93  0.06  Allied Interstate Inc\n",
       "136     CW  102  0.45         Caine & Weiner\n",
       "108    RCL   62  0.32     Regency Credit LLC"
      ]
     },
     "execution_count": 15,
     "metadata": {},
     "output_type": "execute_result"
    }
   ],
   "source": [
    "path = '../data/collection.csv'\n",
    "df = pd.read_csv(path, na_values = 'NA')\n",
    "df.sample(10)"
   ]
  },
  {
   "cell_type": "markdown",
   "id": "5563130c",
   "metadata": {},
   "source": [
    "### Get the unique names of the collection agencies"
   ]
  },
  {
   "cell_type": "code",
   "execution_count": 16,
   "id": "65765496",
   "metadata": {},
   "outputs": [
    {
     "name": "stdout",
     "output_type": "stream",
     "text": [
      "Unique Collection Agencies:\n",
      " ['Allied Interstate Inc', 'Regency Credit LLC', 'Stevens and Ricci Inc', 'Caine & Weiner']\n"
     ]
    }
   ],
   "source": [
    "print(f'Unique Collection Agencies:\\n {list(set(df[\"c_name\"]))}')"
   ]
  },
  {
   "cell_type": "markdown",
   "id": "896c8635",
   "metadata": {},
   "source": [
    "### Get the collection `rates` for each `collection agency` as a sample group"
   ]
  },
  {
   "cell_type": "code",
   "execution_count": 17,
   "id": "9506895b",
   "metadata": {},
   "outputs": [],
   "source": [
    "d1 = df[df['c_name'] == 'Stevens and Ricci Inc']['rate']\n",
    "d2 = df[df['c_name'] == 'Caine & Weiner']['rate']\n",
    "d3 = df[df['c_name'] == 'Allied Interstate Inc']['rate']\n",
    "d4 = df[df['c_name'] == 'Regency Credit LLC']['rate']"
   ]
  },
  {
   "cell_type": "markdown",
   "id": "e5fe6877",
   "metadata": {},
   "source": [
    "#### Check distribution whether it's normal for all groups"
   ]
  },
  {
   "cell_type": "code",
   "execution_count": 18,
   "id": "f08eca4f",
   "metadata": {},
   "outputs": [
    {
     "data": {
      "image/png": "[encoded data removed]",
      "text/plain": [
       "<Figure size 1008x720 with 4 Axes>"
      ]
     },
     "metadata": {},
     "output_type": "display_data"
    }
   ],
   "source": [
    "fig, axes = plt.subplots(2, 2, figsize = (14, 10), sharex = True)\n",
    "sns.histplot(d1, kde = True, ax = axes[0,0]); \n",
    "sns.histplot(d2, kde = True, ax = axes[0,1])\n",
    "sns.histplot(d3, kde = True, ax = axes[1,0]); \n",
    "sns.histplot(d4, kde = True, ax = axes[1,1])\n",
    "plt.show()"
   ]
  },
  {
   "cell_type": "markdown",
   "id": "b7d7106e",
   "metadata": {},
   "source": [
    "### Compare the samples by calculating the f-test score"
   ]
  },
  {
   "cell_type": "code",
   "execution_count": 19,
   "id": "581322b6",
   "metadata": {},
   "outputs": [
    {
     "name": "stdout",
     "output_type": "stream",
     "text": [
      "test statistic = 6.2179, pvalue = 0.0005\n",
      "Significant result! This implies that at least one group mean is different. The groups vary (reject H0)\n"
     ]
    }
   ],
   "source": [
    "test_stat, p_value = stats.f_oneway(d1, d2, d3, d4)\n",
    "print(f'test statistic = {round(test_stat, 4)}, pvalue = {round(p_value, 4)}')\n",
    "\n",
    "alpha = 0.05\n",
    "if p_value <= alpha:\n",
    "    print('Significant result! This implies that at least one group mean is different. The groups vary (reject H0)')\n",
    "else:\n",
    "    print('Not significant result! There is no variation among the groups. Group means are equal (fail to reject H0)')"
   ]
  },
  {
   "cell_type": "markdown",
   "id": "8310c3fc",
   "metadata": {},
   "source": [
    "As we can see **pvalue = 0.0005** is less than **alpha (0.05)** and the **test statistic = 6.2179**. The small **pvalue** means that the **test statistic** is large. This also means that the **Mean Square Between groups (MSB)** is `larger` than **Mean Square Within group (MSW)**. This suggests that **difference between the groups is significant**. We therefore **reject H0** and **accept H1** hypothesis, that there is significant variation among the groups.\n",
    "\n",
    "The above analysis is known as **one way** ANOVA because the only **categorical variable** under study is the **company name**. We wanted to find out the **effect of agency name** on the samples.\n",
    "\n",
    "#### Bar chart for the group means"
   ]
  },
  {
   "cell_type": "code",
   "execution_count": 23,
   "id": "3ed0a018",
   "metadata": {},
   "outputs": [
    {
     "data": {
      "image/png": "[encoded data removed]",
      "text/plain": [
       "<Figure size 576x288 with 1 Axes>"
      ]
     },
     "metadata": {},
     "output_type": "display_data"
    }
   ],
   "source": [
    "means = [np.mean(d1), np.mean(d2), np.mean(d3), np.mean(d4)]\n",
    "names = ['Stevens and Ricci Inc', 'Caine & Weiner', 'Allied Interstate Inc', 'Regency Credit LLC']\n",
    "\n",
    "plt.figure(figsize = (8, 4))\n",
    "sns.barplot(x = names, y = means)\n",
    "plt.xlabel('c_name')\n",
    "plt.ylabel('mean')\n",
    "plt.show()"
   ]
  },
  {
   "cell_type": "markdown",
   "id": "f7813798",
   "metadata": {},
   "source": [
    "### Multiple ANOVA"
   ]
  },
  {
   "cell_type": "code",
   "execution_count": 43,
   "id": "7755cbf5",
   "metadata": {},
   "outputs": [
    {
     "data": {
      "text/html": [
       "<div>\n",
       "<style scoped>\n",
       "    .dataframe tbody tr th:only-of-type {\n",
       "        vertical-align: middle;\n",
       "    }\n",
       "\n",
       "    .dataframe tbody tr th {\n",
       "        vertical-align: top;\n",
       "    }\n",
       "\n",
       "    .dataframe thead th {\n",
       "        text-align: right;\n",
       "    }\n",
       "</style>\n",
       "<table border=\"1\" class=\"dataframe\">\n",
       "  <thead>\n",
       "    <tr style=\"text-align: right;\">\n",
       "      <th></th>\n",
       "      <th>customer_id</th>\n",
       "      <th>income</th>\n",
       "      <th>age</th>\n",
       "      <th>owner</th>\n",
       "      <th>education</th>\n",
       "      <th>gender</th>\n",
       "      <th>spend</th>\n",
       "    </tr>\n",
       "  </thead>\n",
       "  <tbody>\n",
       "    <tr>\n",
       "      <th>0</th>\n",
       "      <td>Cus_1</td>\n",
       "      <td>111000</td>\n",
       "      <td>26</td>\n",
       "      <td>0</td>\n",
       "      <td>College</td>\n",
       "      <td>M</td>\n",
       "      <td>56000</td>\n",
       "    </tr>\n",
       "    <tr>\n",
       "      <th>1</th>\n",
       "      <td>Cus_2</td>\n",
       "      <td>79000</td>\n",
       "      <td>82</td>\n",
       "      <td>0</td>\n",
       "      <td>College</td>\n",
       "      <td>F</td>\n",
       "      <td>29000</td>\n",
       "    </tr>\n",
       "    <tr>\n",
       "      <th>2</th>\n",
       "      <td>Cus_3</td>\n",
       "      <td>42000</td>\n",
       "      <td>72</td>\n",
       "      <td>0</td>\n",
       "      <td>Master</td>\n",
       "      <td>F</td>\n",
       "      <td>17000</td>\n",
       "    </tr>\n",
       "  </tbody>\n",
       "</table>\n",
       "</div>"
      ],
      "text/plain": [
       "  customer_id  income  age  owner education gender  spend\n",
       "0       Cus_1  111000   26      0   College      M  56000\n",
       "1       Cus_2   79000   82      0   College      F  29000\n",
       "2       Cus_3   42000   72      0    Master      F  17000"
      ]
     },
     "execution_count": 43,
     "metadata": {},
     "output_type": "execute_result"
    }
   ],
   "source": [
    "tc_p1 = pd.read_csv('../data/Consumers_ext.csv', na_values = 'NA')\n",
    "tc_p1.head(3)"
   ]
  },
  {
   "cell_type": "code",
   "execution_count": 46,
   "id": "f2f5ee11",
   "metadata": {},
   "outputs": [
    {
     "name": "stdout",
     "output_type": "stream",
     "text": [
      "['customer_id', 'income', 'age', 'owner', 'education', 'gender', 'spend']\n"
     ]
    }
   ],
   "source": [
    "print(list(tc_p1))"
   ]
  },
  {
   "cell_type": "code",
   "execution_count": null,
   "id": "454a799b",
   "metadata": {},
   "outputs": [],
   "source": [
    "cw_lm = ols('sales_new ~ C(group) + C(offer) + C(s1) + C(s2) + C(s3)  + C(s4)+ C(s5) + C(s6) + C(s7) + C(s8) + C(s9) + C(s10)',\n",
    "           data = tc_p1).fit()     # C in C(s1) means categorical variable => s1 is already binary"
   ]
  },
  {
   "cell_type": "code",
   "execution_count": null,
   "id": "8dc16224",
   "metadata": {},
   "outputs": [],
   "source": [
    "print(sm.stats.anova_lm(cw_lm, typ = 2))"
   ]
  },
  {
   "cell_type": "markdown",
   "id": "0eaf469b",
   "metadata": {},
   "source": [
    "#### Two-way f-test\n",
    "In this **two-way ANOVA** we will study the effect of **smoking** (yes or no) and **gender** (male or female) on **income** distribution.\n",
    "#### ANOVA for coffee effect test"
   ]
  },
  {
   "cell_type": "code",
   "execution_count": 47,
   "id": "e46c6f6a",
   "metadata": {},
   "outputs": [
    {
     "data": {
      "text/html": [
       "<div>\n",
       "<style scoped>\n",
       "    .dataframe tbody tr th:only-of-type {\n",
       "        vertical-align: middle;\n",
       "    }\n",
       "\n",
       "    .dataframe tbody tr th {\n",
       "        vertical-align: top;\n",
       "    }\n",
       "\n",
       "    .dataframe thead th {\n",
       "        text-align: right;\n",
       "    }\n",
       "</style>\n",
       "<table border=\"1\" class=\"dataframe\">\n",
       "  <thead>\n",
       "    <tr style=\"text-align: right;\">\n",
       "      <th></th>\n",
       "      <th>Person_ID</th>\n",
       "      <th>Cups_Per_Week</th>\n",
       "      <th>Age</th>\n",
       "      <th>Gender</th>\n",
       "      <th>Employment</th>\n",
       "      <th>Education</th>\n",
       "      <th>Income</th>\n",
       "      <th>Married</th>\n",
       "      <th>Own_Home</th>\n",
       "      <th>Smoker</th>\n",
       "      <th>Favourite_NonAlc_Drink</th>\n",
       "      <th>Veg</th>\n",
       "      <th>cup_tea</th>\n",
       "      <th>spend_food</th>\n",
       "    </tr>\n",
       "  </thead>\n",
       "  <tbody>\n",
       "    <tr>\n",
       "      <th>0</th>\n",
       "      <td>5</td>\n",
       "      <td>1</td>\n",
       "      <td>60.0</td>\n",
       "      <td>F</td>\n",
       "      <td>fulltime</td>\n",
       "      <td>high school</td>\n",
       "      <td>45000.0</td>\n",
       "      <td>married</td>\n",
       "      <td>no</td>\n",
       "      <td>yes</td>\n",
       "      <td>tea</td>\n",
       "      <td>nonveg</td>\n",
       "      <td>0</td>\n",
       "      <td>11787</td>\n",
       "    </tr>\n",
       "    <tr>\n",
       "      <th>1</th>\n",
       "      <td>6</td>\n",
       "      <td>1</td>\n",
       "      <td>40.0</td>\n",
       "      <td>F</td>\n",
       "      <td>fulltime</td>\n",
       "      <td>high school</td>\n",
       "      <td>46000.0</td>\n",
       "      <td>married</td>\n",
       "      <td>no</td>\n",
       "      <td>no</td>\n",
       "      <td>other</td>\n",
       "      <td>veg</td>\n",
       "      <td>6</td>\n",
       "      <td>18674</td>\n",
       "    </tr>\n",
       "    <tr>\n",
       "      <th>2</th>\n",
       "      <td>9</td>\n",
       "      <td>3</td>\n",
       "      <td>NaN</td>\n",
       "      <td>F</td>\n",
       "      <td>fulltime</td>\n",
       "      <td>high school</td>\n",
       "      <td>47000.0</td>\n",
       "      <td>married</td>\n",
       "      <td>no</td>\n",
       "      <td>no</td>\n",
       "      <td>coffee</td>\n",
       "      <td>veg</td>\n",
       "      <td>1</td>\n",
       "      <td>14814</td>\n",
       "    </tr>\n",
       "  </tbody>\n",
       "</table>\n",
       "</div>"
      ],
      "text/plain": [
       "   Person_ID  Cups_Per_Week   Age Gender Employment    Education   Income  \\\n",
       "0          5              1  60.0      F   fulltime  high school  45000.0   \n",
       "1          6              1  40.0      F   fulltime  high school  46000.0   \n",
       "2          9              3   NaN      F   fulltime  high school  47000.0   \n",
       "\n",
       "   Married Own_Home Smoker Favourite_NonAlc_Drink     Veg  cup_tea  spend_food  \n",
       "0  married       no    yes                    tea  nonveg        0       11787  \n",
       "1  married       no     no                  other     veg        6       18674  \n",
       "2  married       no     no                 coffee     veg        1       14814  "
      ]
     },
     "execution_count": 47,
     "metadata": {},
     "output_type": "execute_result"
    }
   ],
   "source": [
    "path = '../data/coffee_info.csv'\n",
    "df = pd.read_csv(path, na_values = 'NA')\n",
    "df.head(3)"
   ]
  },
  {
   "cell_type": "code",
   "execution_count": 48,
   "id": "8d3ed8ed",
   "metadata": {},
   "outputs": [],
   "source": [
    "v1 = ['M', 'F']           # gender \n",
    "v2 = ['yes', 'no']        # smoker\n",
    "data = df[(df['Gender'].isin(v1)) & (df['Smoker'].isin(v2))]"
   ]
  },
  {
   "cell_type": "markdown",
   "id": "8b6900db",
   "metadata": {},
   "source": [
    "**Fit using Ordinary least squares (ols)**"
   ]
  },
  {
   "cell_type": "code",
   "execution_count": 49,
   "id": "d003e59f",
   "metadata": {},
   "outputs": [
    {
     "name": "stdout",
     "output_type": "stream",
     "text": [
      "                            OLS Regression Results                            \n",
      "==============================================================================\n",
      "Dep. Variable:                 Income   R-squared:                       0.024\n",
      "Model:                            OLS   Adj. R-squared:                  0.016\n",
      "Method:                 Least Squares   F-statistic:                     2.923\n",
      "Date:                Mon, 02 May 2022   Prob (F-statistic):             0.0557\n",
      "Time:                        07:43:11   Log-Likelihood:                -2850.9\n",
      "No. Observations:                 244   AIC:                             5708.\n",
      "Df Residuals:                     241   BIC:                             5718.\n",
      "Df Model:                           2                                         \n",
      "Covariance Type:            nonrobust                                         \n",
      "=================================================================================\n",
      "                    coef    std err          t      P>|t|      [0.025      0.975]\n",
      "---------------------------------------------------------------------------------\n",
      "Intercept      4.348e+04   2794.839     15.558      0.000     3.8e+04     4.9e+04\n",
      "Gender[T.M]    7024.3324   3757.123      1.870      0.063    -376.660    1.44e+04\n",
      "Smoker[T.yes] -5592.3446   3947.597     -1.417      0.158   -1.34e+04    2183.854\n",
      "==============================================================================\n",
      "Omnibus:                       14.890   Durbin-Watson:                   0.807\n",
      "Prob(Omnibus):                  0.001   Jarque-Bera (JB):               14.958\n",
      "Skew:                           0.562   Prob(JB):                     0.000565\n",
      "Kurtosis:                       2.545   Cond. No.                         2.86\n",
      "==============================================================================\n",
      "\n",
      "Notes:\n",
      "[1] Standard Errors assume that the covariance matrix of the errors is correctly specified.\n"
     ]
    }
   ],
   "source": [
    "model = ols('Income ~ Gender + Smoker', data).fit()          # Gender and Smoker are already categorical variable, not binary\n",
    "print(model.summary())                                       # So we don't use C to represent them"
   ]
  },
  {
   "cell_type": "markdown",
   "id": "fff31936",
   "metadata": {},
   "source": [
    "The traditional threshold for pvalue is **0.05**. The results above show a pvalue for Gender to be **0.063** which is very close to the threshold. This means that **Gender (M or F) has a small impact on the income**. \n",
    "\n",
    "The pvalue for **Smoker** is **0.158** which is very much **higher than alpha (0.05)**. This implies that **Smoker (yes or no) has no impact on the Income**. This means smoking does not affect someone's income!"
   ]
  },
  {
   "cell_type": "markdown",
   "id": "cfe072b7",
   "metadata": {},
   "source": [
    "### ANOVA with Interaction (multiple ways f-test)\n",
    "The effects of **owning a home, education** and the **interaction of both** on **amount spent on food**."
   ]
  },
  {
   "cell_type": "code",
   "execution_count": 50,
   "id": "1cb20054",
   "metadata": {},
   "outputs": [
    {
     "name": "stdout",
     "output_type": "stream",
     "text": [
      "                            OLS Regression Results                            \n",
      "==============================================================================\n",
      "Dep. Variable:             spend_food   R-squared:                       0.107\n",
      "Model:                            OLS   Adj. R-squared:                  0.089\n",
      "Method:                 Least Squares   F-statistic:                     5.867\n",
      "Date:                Mon, 02 May 2022   Prob (F-statistic):           3.86e-05\n",
      "Time:                        10:13:47   Log-Likelihood:                -2616.3\n",
      "No. Observations:                 250   AIC:                             5245.\n",
      "Df Residuals:                     244   BIC:                             5266.\n",
      "Df Model:                           5                                         \n",
      "Covariance Type:            nonrobust                                         \n",
      "============================================================================================================\n",
      "                                               coef    std err          t      P>|t|      [0.025      0.975]\n",
      "------------------------------------------------------------------------------------------------------------\n",
      "Intercept                                 1.062e+04   1252.853      8.476      0.000    8151.021    1.31e+04\n",
      "Own_Home[T.yes]                           6889.1389   2335.046      2.950      0.003    2289.720    1.15e+04\n",
      "Education[T.gradschool]                   3395.3279   2218.776      1.530      0.127    -975.070    7765.726\n",
      "Education[T.high school]                 -2992.2333   1490.806     -2.007      0.046   -5928.724     -55.743\n",
      "Own_Home[T.yes]:Education[T.gradschool]  -8354.5829   3805.341     -2.195      0.029   -1.59e+04    -859.073\n",
      "Own_Home[T.yes]:Education[T.high school] -4115.9363   2855.618     -1.441      0.151   -9740.744    1508.871\n",
      "==============================================================================\n",
      "Omnibus:                       50.749   Durbin-Watson:                   1.096\n",
      "Prob(Omnibus):                  0.000   Jarque-Bera (JB):               76.343\n",
      "Skew:                           1.217   Prob(JB):                     2.64e-17\n",
      "Kurtosis:                       4.186   Cond. No.                         11.2\n",
      "==============================================================================\n",
      "\n",
      "Notes:\n",
      "[1] Standard Errors assume that the covariance matrix of the errors is correctly specified.\n"
     ]
    }
   ],
   "source": [
    "data = df.copy()\n",
    "model = ols('spend_food ~ Own_Home + Education + Own_Home * Education', data).fit()    # ols used for ANOVA and linreg\n",
    "print(model.summary())"
   ]
  },
  {
   "cell_type": "markdown",
   "id": "1b8ab951",
   "metadata": {},
   "source": [
    "##### Owning a home\n",
    "**H0** assumes that **`Own_Home[T.yes]`** has **no impact** on **spend_food**. \n",
    "\n",
    "However the **pvalue = 0.003** is **less than alpha (0.05)**. This means we should **reject H0** hypothesis but rather accept **H1** which assumes that **`Own_Home[T.yes]`** has a **significant** impact on **spend_food**. \n",
    "\n",
    "##### Education gradschool\n",
    "**H0** assumes that **`Education[T.gradschool]`** has **no impact** on **spend_food**. \n",
    "\n",
    "The **pvalue = 0.127** is **greater than alpha (0.05)**. This means we should accept **H0** which assumes that being from **gradschool** does not affect the amount spent on food **(spend_food)**. \n",
    "\n",
    "This means **`Education[T.gradschool]`** is not a **predictor** for **spend_food** and should **not** be included in the model.\n",
    "\n",
    "##### Education high school\n",
    "**H0** assumes that **`Education[T.high school]`** has **no impact** on **spend_food**. \n",
    "\n",
    "The **pvalue = 0.046** is **very close** to **0.05**. We can therefore conclude that **high school** education has a **not so significant** impact on **spend_food**. We can narrowly **reject or accept H0** meaning **`Education[T.high school]`** is **not a good predictor** for **spend_food**. \n",
    "\n",
    "The **negative** coefficient (**-2992.2333**) indicates that if you graduate from high school the amount spend on food is **less**, though **insignificant** because of the **not so low pvalue**.\n",
    "\n",
    "##### Own Home + Education gradschool\n",
    "**H0** assumes that **`Own_Home[T.yes]:Education[T.gradschool] `** has **no impact** on **spend_food**. \n",
    "\n",
    "The **pvalue = 0.029** is **less than alpha (0.05)**. This means we should **reject H0** hypothesis but rather accept **H1** which assumes that **`Own_Home[T.yes]:Education[T.gradschool] `** has a **significant** impact on **spend_food**. This means that owning a home as a grad school graduate has a significant impact on the amount spent on food! \n",
    "\n",
    "This means **`Own_Home[T.yes]:Education[T.gradschool] `** is a good **predictor** for **spend_food** and **should be included** in the model.\n",
    "\n",
    "The **negative** coefficient (**-8354.5829**) indicates that if you graduate from high gradschool the amount spend on food is **less**, and **significant** because of the **low pvalue**.\n",
    "\n",
    "##### Own Home + Education high school\n",
    "**H0** assumes that **`Own_Home[T.yes]:Education[T.high school]`** has **no impact** on **spend_food**. \n",
    "\n",
    "The **pvalue = 0.151** is **greater than alpha (0.05)**. This means we should **accept H0** which assumes that **owning a home as a high school** graduate **does not** affect the amount spent on food **spend_food**. \n",
    "\n",
    "This means **`Own_Home[T.yes]:Education[T.high school]`** is **not a predictor** for **spend_food** and should **not be included** in the model.\n",
    "\n",
    "**When the pvalue is `too small` compared to `0.05` H0 (which assumes that variables are the same `without a significant dependency`) is `rejected` and H1 (which claims that variables are not equal and have a significant dependency) is accepted**.\n",
    "\n",
    "### Plot the effects and interactions"
   ]
  },
  {
   "cell_type": "code",
   "execution_count": 52,
   "id": "d0bcb30a",
   "metadata": {},
   "outputs": [
    {
     "data": {
      "image/png": "[encoded data removed]",
      "text/plain": [
       "<Figure size 432x288 with 1 Axes>"
      ]
     },
     "metadata": {},
     "output_type": "display_data"
    }
   ],
   "source": [
    "sns.pointplot(x = 'Education', y = 'spend_food', hue = 'Own_Home', data = data)\n",
    "plt.show()"
   ]
  },
  {
   "cell_type": "markdown",
   "id": "d803d28c",
   "metadata": {},
   "source": [
    "### Paired t-Test or Matched-pairs test\n",
    "* Compares the **means** of **two or more samples**\n",
    "* It's different from **t- or f-test** in that **two or more samples** are collected from the **same sampled population**. *T-test* is based on samples collected from **two different groups**\n",
    "* The pair is often based on individual **id** such as **patient id**...(Data collected from **same patient before and after the use of drugs**)\n",
    "* Data is assumed to be **normally distributed**\n",
    "* Sample size should be greater than **15** (based on experience)\n",
    "* If data is **not normally distributed** we use **Wilcoxon Singed-rank Test**\n",
    "### Wilcoxon Singed-rank Test\n",
    "We wish to find out whether **H0: 4.5 times the amount spent on food is = someone's income (`4.5*spend_food = Income`)**."
   ]
  },
  {
   "cell_type": "code",
   "execution_count": 54,
   "id": "cd56622b",
   "metadata": {},
   "outputs": [],
   "source": [
    "path = '../data/coffee_info.csv'\n",
    "df = pd.read_csv(path, na_values = 'NA')\n",
    "df1 = df[(df.Income > 0) & (df.spend_food > 0)]"
   ]
  },
  {
   "cell_type": "code",
   "execution_count": 55,
   "id": "e6ba7f46",
   "metadata": {},
   "outputs": [
    {
     "data": {
      "image/png": "[encoded data removed]",
      "text/plain": [
       "<Figure size 1152x360 with 2 Axes>"
      ]
     },
     "metadata": {},
     "output_type": "display_data"
    }
   ],
   "source": [
    "fig, axes = plt.subplots(1, 2, figsize = (16, 5), sharey = True)\n",
    "sns.histplot(df1.Income, kde = True, ax = axes[0]); \n",
    "sns.histplot(4.5*df1.spend_food, kde = True, ax = axes[1])\n",
    "plt.show()"
   ]
  },
  {
   "cell_type": "code",
   "execution_count": 56,
   "id": "89a4f79f",
   "metadata": {},
   "outputs": [
    {
     "name": "stdout",
     "output_type": "stream",
     "text": [
      "test statistic = 14664.0, pvalue = 0.799\n",
      "Not significant result! There is no significant difference between Income and 4.5xspend_food (fail to reject H0)\n"
     ]
    }
   ],
   "source": [
    "test_stat, p_value = stats.wilcoxon(df1.Income, 4.5*df1.spend_food)    # testing whether Income = 4.5*spend_food (pair test)\n",
    "print(f'test statistic = {round(test_stat, 4)}, pvalue = {round(p_value, 4)}')\n",
    "\n",
    "alpha = 0.05\n",
    "if p_value <= alpha:\n",
    "    print('Significant result! There is significant difference between Income and 4.5xspend_food (reject H0)')\n",
    "else:\n",
    "    print('Not significant result! There is no significant difference between Income and 4.5xspend_food (fail to reject H0)')"
   ]
  },
  {
   "cell_type": "markdown",
   "id": "dee44a15",
   "metadata": {},
   "source": [
    "### Chi-square Independency Test\n",
    "**Chi-square test** is used when you want to find out whether there is a **relationship or `correlation` between two categorical variables**. If the **chi-square pvalue is greater than 0.05** then there is **no significant difference** between the categorical variables. For example investigating the relationship between **'Education'** and **'Gender'**. If the **chi-square pvalue is greater than 0.05** then it can be concluded that there is **no difference in 'Education'** between the **'Gender' (M, F)**. That is being male or female has **not effect on education (fail to reject H0)**. \n",
    "\n",
    "However, if **chi-square pvalue is less than 0.05** then there is **significant difference** in **'Education'** between the **'Gender' (M, F)**. That is being male or female has **an effect on education (reject H0)**. There is **a strong correlation** between **'Education'** and **'Gender' (M, F)**.\n",
    "\n",
    "#### Helper function to generate the contigency table"
   ]
  },
  {
   "cell_type": "code",
   "execution_count": 60,
   "id": "e9b4f649",
   "metadata": {},
   "outputs": [],
   "source": [
    "def contigency_table(df, col1, col2):\n",
    "    '''Generate the contigency table from \n",
    "       columns col1 and col2 of dataframe df.\n",
    "    '''\n",
    "    group_sizes = df.groupby([col1, col2]).size()\n",
    "    ctsum = group_sizes.unstack(col1)\n",
    "    table = ctsum.fillna(0)\n",
    "    return table"
   ]
  },
  {
   "cell_type": "markdown",
   "id": "db5cfdf9",
   "metadata": {},
   "source": [
    "**Call the function...**"
   ]
  },
  {
   "cell_type": "code",
   "execution_count": 61,
   "id": "ee4af4d1",
   "metadata": {},
   "outputs": [
    {
     "name": "stdout",
     "output_type": "stream",
     "text": [
      "contigency table:\n",
      "Education  bachelors  gradschool  high school\n",
      "Gender                                       \n",
      "F                 36          25           85\n",
      "M                 30          10           64\n",
      "dof = 2\n",
      "\n",
      "expected:\n",
      "[[38.544 20.44  87.016]\n",
      " [27.456 14.56  61.984]]\n",
      "\n",
      "probability = 0.95, critical = 5.991, test statistic = 2.961\n",
      "Variables are independent or not correlated (fail to reject H0)\n",
      "\n",
      "significance = 0.05, pvalue = 0.227\n",
      "Not significant result! Variables are independent or uncorrelated (fail to reject H0)\n"
     ]
    }
   ],
   "source": [
    "# table = pd.crosstab(df['Gender'], df['Education'], margins = False)\n",
    "\n",
    "table = contigency_table(df, 'Education', 'Gender')  \n",
    "print(f'contigency table:\\n{table}')\n",
    "\n",
    "test_stat, p_value, dof, expected = stats.chi2_contingency(table)\n",
    "print(f'dof = {dof}\\n')\n",
    "print(f'expected:\\n{expected}')\n",
    "print()\n",
    "\n",
    "# We can interpret the statistic by retrieving the critical value from the Chi-Squared distribution\n",
    "prob = 0.95               # 95% confidence level\n",
    "critical = stats.chi2.ppf(prob, dof)\n",
    "print(f'probability = {round(prob, 3)}, critical = {round(critical, 3)}, test statistic = {round(test_stat, 3)}')\n",
    "\n",
    "if abs(test_stat) >= critical:\n",
    "    print('Variables are dependent or correlated (reject H0)')\n",
    "else:\n",
    "    print('Variables are independent or not correlated (fail to reject H0)')\n",
    "print()    \n",
    "alpha = 1.0 - prob\n",
    "print(f'significance = {round(alpha, 3)}, pvalue = {round(p_value, 3)}')\n",
    "if p_value <= alpha:\n",
    "    print('Significant result! Variables are dependent or correlated (reject H0)')\n",
    "else:\n",
    "    print('Not significant result! Variables are independent or uncorrelated (fail to reject H0)')"
   ]
  },
  {
   "cell_type": "markdown",
   "id": "cd434d46",
   "metadata": {},
   "source": [
    "The **chi-sq statistics (test statistic = 2.961)** is **less than** the **critical = 5.991** and **pvalue = 0.227** is very much larger than the threshold of **0.05**. There is therefore **NO significant relationship** between the two categorical variables (Education and Gender). Therefore we **accept** or **fail to reject H0**. "
   ]
  },
  {
   "cell_type": "code",
   "execution_count": 59,
   "id": "b1c9eb49",
   "metadata": {},
   "outputs": [
    {
     "data": {
      "image/png": "[encoded data removed]",
      "text/plain": [
       "<Figure size 432x288 with 1 Axes>"
      ]
     },
     "metadata": {},
     "output_type": "display_data"
    }
   ],
   "source": [
    "#sns.countplot(y = 'Education', hue = 'Gender', orient = 'h', data = df)\n",
    "sns.countplot(x = 'Education', hue = 'Gender',  data = df)\n",
    "plt.show()"
   ]
  },
  {
   "cell_type": "markdown",
   "id": "07435c6f",
   "metadata": {},
   "source": [
    "### Contigency Table using `pd.crosstab()`"
   ]
  },
  {
   "cell_type": "code",
   "execution_count": 68,
   "id": "087aa675",
   "metadata": {},
   "outputs": [
    {
     "name": "stdout",
     "output_type": "stream",
     "text": [
      "Education  bachelors  gradschool  high school\n",
      "Gender                                       \n",
      "F                 36          25           85\n",
      "M                 30          10           64\n"
     ]
    }
   ],
   "source": [
    "table = pd.crosstab(df['Gender'], df['Education'], margins = False)\n",
    "print(table)"
   ]
  },
  {
   "cell_type": "code",
   "execution_count": 69,
   "id": "cd195ea0",
   "metadata": {},
   "outputs": [
    {
     "name": "stdout",
     "output_type": "stream",
     "text": [
      "Gender        F   M\n",
      "Education          \n",
      "bachelors    36  30\n",
      "gradschool   25  10\n",
      "high school  85  64\n"
     ]
    }
   ],
   "source": [
    "table = pd.crosstab(df['Education'], df['Gender'], margins = False)\n",
    "print(table)"
   ]
  },
  {
   "cell_type": "markdown",
   "id": "448a0372",
   "metadata": {},
   "source": [
    "#### Proportion Test\n",
    "This is equvalent to the well known **z-test** for comparing two independent proportions."
   ]
  },
  {
   "cell_type": "code",
   "execution_count": null,
   "id": "a05e17a0",
   "metadata": {},
   "outputs": [],
   "source": []
  }
 ],
 "metadata": {
  "kernelspec": {
   "display_name": "Python 3 (ipykernel)",
   "language": "python",
   "name": "python3"
  },
  "language_info": {
   "codemirror_mode": {
    "name": "ipython",
    "version": 3
   },
   "file_extension": ".py",
   "mimetype": "text/x-python",
   "name": "python",
   "nbconvert_exporter": "python",
   "pygments_lexer": "ipython3",
   "version": "3.9.7"
  }
 },
 "nbformat": 4,
 "nbformat_minor": 5
}
