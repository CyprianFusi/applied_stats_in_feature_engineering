{
 "cells": [
  {
   "cell_type": "code",
   "execution_count": 67,
   "id": "cd2e620d",
   "metadata": {},
   "outputs": [],
   "source": [
    "import pandas as pd\n",
    "import numpy as np\n",
    "import matplotlib.pyplot as plt\n",
    "import seaborn as sns\n",
    "from scipy import stats\n",
    "from statsmodels.formula.api import ols\n",
    "from sklearn.svm import LinearSVC\n",
    "from sklearn import metrics, linear_model, preprocessing\n",
    "from sklearn.feature_selection import SelectKBest, f_regression, chi2, VarianceThreshold, SelectFromModel\n",
    "from sklearn.metrics import roc_curve, auc, confusion_matrix\n",
    "\n",
    "%matplotlib inline\n",
    "sns.set(color_codes = True) "
   ]
  },
  {
   "cell_type": "markdown",
   "id": "bd78a196",
   "metadata": {},
   "source": [
    "### Load the dataset\n",
    "We shall use the **'carprice.csv'** dataset for this exercise"
   ]
  },
  {
   "cell_type": "code",
   "execution_count": 83,
   "id": "d8670a92",
   "metadata": {},
   "outputs": [
    {
     "name": "stdout",
     "output_type": "stream",
     "text": [
      "(5239, 17)\n"
     ]
    },
    {
     "data": {
      "text/html": [
       "<div>\n",
       "<style scoped>\n",
       "    .dataframe tbody tr th:only-of-type {\n",
       "        vertical-align: middle;\n",
       "    }\n",
       "\n",
       "    .dataframe tbody tr th {\n",
       "        vertical-align: top;\n",
       "    }\n",
       "\n",
       "    .dataframe thead th {\n",
       "        text-align: right;\n",
       "    }\n",
       "</style>\n",
       "<table border=\"1\" class=\"dataframe\">\n",
       "  <thead>\n",
       "    <tr style=\"text-align: right;\">\n",
       "      <th></th>\n",
       "      <th>car_id</th>\n",
       "      <th>price</th>\n",
       "      <th>Kilometers</th>\n",
       "      <th>hp</th>\n",
       "      <th>Brand</th>\n",
       "      <th>Sport</th>\n",
       "      <th>age</th>\n",
       "      <th>Users</th>\n",
       "      <th>gas</th>\n",
       "      <th>Metalilic</th>\n",
       "      <th>CC</th>\n",
       "      <th>Weight</th>\n",
       "      <th>QuartTax</th>\n",
       "      <th>Automatic</th>\n",
       "      <th>red</th>\n",
       "      <th>Owner_gender</th>\n",
       "      <th>door</th>\n",
       "    </tr>\n",
       "  </thead>\n",
       "  <tbody>\n",
       "    <tr>\n",
       "      <th>0</th>\n",
       "      <td>3548</td>\n",
       "      <td>48750</td>\n",
       "      <td>NaN</td>\n",
       "      <td>110</td>\n",
       "      <td>6</td>\n",
       "      <td>YES</td>\n",
       "      <td>7</td>\n",
       "      <td>1</td>\n",
       "      <td>590.0</td>\n",
       "      <td>NO</td>\n",
       "      <td>1800</td>\n",
       "      <td>1170.0</td>\n",
       "      <td>100</td>\n",
       "      <td>YES</td>\n",
       "      <td>NO</td>\n",
       "      <td>M</td>\n",
       "      <td>4</td>\n",
       "    </tr>\n",
       "    <tr>\n",
       "      <th>1</th>\n",
       "      <td>903</td>\n",
       "      <td>16610</td>\n",
       "      <td>NaN</td>\n",
       "      <td>110</td>\n",
       "      <td>3</td>\n",
       "      <td>NO</td>\n",
       "      <td>8</td>\n",
       "      <td>1</td>\n",
       "      <td>391.0</td>\n",
       "      <td>YES</td>\n",
       "      <td>2200</td>\n",
       "      <td>1250.0</td>\n",
       "      <td>270</td>\n",
       "      <td>YES</td>\n",
       "      <td>NO</td>\n",
       "      <td>F</td>\n",
       "      <td>4</td>\n",
       "    </tr>\n",
       "    <tr>\n",
       "      <th>2</th>\n",
       "      <td>3903</td>\n",
       "      <td>27100</td>\n",
       "      <td>3040.0</td>\n",
       "      <td>110</td>\n",
       "      <td>2</td>\n",
       "      <td>YES</td>\n",
       "      <td>8</td>\n",
       "      <td>1</td>\n",
       "      <td>478.0</td>\n",
       "      <td>NO</td>\n",
       "      <td>1900</td>\n",
       "      <td>1186.0</td>\n",
       "      <td>120</td>\n",
       "      <td>YES</td>\n",
       "      <td>YES</td>\n",
       "      <td>M</td>\n",
       "      <td>4</td>\n",
       "    </tr>\n",
       "    <tr>\n",
       "      <th>3</th>\n",
       "      <td>5098</td>\n",
       "      <td>24240</td>\n",
       "      <td>4690.0</td>\n",
       "      <td>110</td>\n",
       "      <td>5</td>\n",
       "      <td>NO</td>\n",
       "      <td>8</td>\n",
       "      <td>1</td>\n",
       "      <td>NaN</td>\n",
       "      <td>NO</td>\n",
       "      <td>1800</td>\n",
       "      <td>1170.0</td>\n",
       "      <td>100</td>\n",
       "      <td>YES</td>\n",
       "      <td>NO</td>\n",
       "      <td>M</td>\n",
       "      <td>4</td>\n",
       "    </tr>\n",
       "    <tr>\n",
       "      <th>4</th>\n",
       "      <td>3364</td>\n",
       "      <td>13030</td>\n",
       "      <td>5820.0</td>\n",
       "      <td>110</td>\n",
       "      <td>5</td>\n",
       "      <td>NO</td>\n",
       "      <td>9</td>\n",
       "      <td>1</td>\n",
       "      <td>NaN</td>\n",
       "      <td>YES</td>\n",
       "      <td>2200</td>\n",
       "      <td>1250.0</td>\n",
       "      <td>80</td>\n",
       "      <td>NO</td>\n",
       "      <td>NO</td>\n",
       "      <td>F</td>\n",
       "      <td>4</td>\n",
       "    </tr>\n",
       "  </tbody>\n",
       "</table>\n",
       "</div>"
      ],
      "text/plain": [
       "   car_id  price  Kilometers   hp  Brand Sport  age  Users    gas Metalilic  \\\n",
       "0    3548  48750         NaN  110      6   YES    7      1  590.0        NO   \n",
       "1     903  16610         NaN  110      3    NO    8      1  391.0       YES   \n",
       "2    3903  27100      3040.0  110      2   YES    8      1  478.0        NO   \n",
       "3    5098  24240      4690.0  110      5    NO    8      1    NaN        NO   \n",
       "4    3364  13030      5820.0  110      5    NO    9      1    NaN       YES   \n",
       "\n",
       "     CC  Weight  QuartTax Automatic  red Owner_gender  door  \n",
       "0  1800  1170.0       100       YES   NO            M     4  \n",
       "1  2200  1250.0       270       YES   NO            F     4  \n",
       "2  1900  1186.0       120       YES  YES            M     4  \n",
       "3  1800  1170.0       100       YES   NO            M     4  \n",
       "4  2200  1250.0        80        NO   NO            F     4  "
      ]
     },
     "execution_count": 83,
     "metadata": {},
     "output_type": "execute_result"
    }
   ],
   "source": [
    "df = pd.read_csv('../data/carprice.csv', na_values = '.')\n",
    "print(df.shape)\n",
    "df.head()"
   ]
  },
  {
   "cell_type": "markdown",
   "id": "d7d6a249",
   "metadata": {},
   "source": [
    "### Check for missing values\n",
    "For each **variable** in the data frame, check the number of missing values"
   ]
  },
  {
   "cell_type": "code",
   "execution_count": 84,
   "id": "f0fc857e",
   "metadata": {},
   "outputs": [
    {
     "name": "stdout",
     "output_type": "stream",
     "text": [
      "Kilometers    358\n",
      "gas           261\n",
      "Weight        570\n",
      "dtype: int64\n"
     ]
    }
   ],
   "source": [
    "d = df.isnull().sum()\n",
    "print(d[d > 0])"
   ]
  },
  {
   "cell_type": "code",
   "execution_count": 85,
   "id": "3f3edb8c",
   "metadata": {},
   "outputs": [
    {
     "name": "stdout",
     "output_type": "stream",
     "text": [
      "Number of variables with missing values: 3\n"
     ]
    }
   ],
   "source": [
    "print(f'Number of variables with missing values: {len(d[d > 0])}')"
   ]
  },
  {
   "cell_type": "code",
   "execution_count": 86,
   "id": "284f29ea",
   "metadata": {},
   "outputs": [
    {
     "name": "stdout",
     "output_type": "stream",
     "text": [
      "car_id            int64\n",
      "price             int64\n",
      "Kilometers      float64\n",
      "hp                int64\n",
      "Brand             int64\n",
      "Sport            object\n",
      "age               int64\n",
      "Users             int64\n",
      "gas             float64\n",
      "Metalilic        object\n",
      "CC                int64\n",
      "Weight          float64\n",
      "QuartTax          int64\n",
      "Automatic        object\n",
      "red              object\n",
      "Owner_gender     object\n",
      "door              int64\n",
      "dtype: object\n"
     ]
    }
   ],
   "source": [
    "print(df.dtypes)"
   ]
  },
  {
   "cell_type": "markdown",
   "id": "2c251479",
   "metadata": {},
   "source": [
    "**Extract the dataframe making sure the following numeric variables are `non-negative`**"
   ]
  },
  {
   "cell_type": "code",
   "execution_count": 87,
   "id": "d0515d89",
   "metadata": {},
   "outputs": [
    {
     "name": "stdout",
     "output_type": "stream",
     "text": [
      "(4133, 17)\n"
     ]
    },
    {
     "data": {
      "text/html": [
       "<div>\n",
       "<style scoped>\n",
       "    .dataframe tbody tr th:only-of-type {\n",
       "        vertical-align: middle;\n",
       "    }\n",
       "\n",
       "    .dataframe tbody tr th {\n",
       "        vertical-align: top;\n",
       "    }\n",
       "\n",
       "    .dataframe thead th {\n",
       "        text-align: right;\n",
       "    }\n",
       "</style>\n",
       "<table border=\"1\" class=\"dataframe\">\n",
       "  <thead>\n",
       "    <tr style=\"text-align: right;\">\n",
       "      <th></th>\n",
       "      <th>car_id</th>\n",
       "      <th>price</th>\n",
       "      <th>Kilometers</th>\n",
       "      <th>hp</th>\n",
       "      <th>Brand</th>\n",
       "      <th>Sport</th>\n",
       "      <th>age</th>\n",
       "      <th>Users</th>\n",
       "      <th>gas</th>\n",
       "      <th>Metalilic</th>\n",
       "      <th>CC</th>\n",
       "      <th>Weight</th>\n",
       "      <th>QuartTax</th>\n",
       "      <th>Automatic</th>\n",
       "      <th>red</th>\n",
       "      <th>Owner_gender</th>\n",
       "      <th>door</th>\n",
       "    </tr>\n",
       "  </thead>\n",
       "  <tbody>\n",
       "    <tr>\n",
       "      <th>2</th>\n",
       "      <td>3903</td>\n",
       "      <td>27100</td>\n",
       "      <td>3040.0</td>\n",
       "      <td>110</td>\n",
       "      <td>2</td>\n",
       "      <td>YES</td>\n",
       "      <td>8</td>\n",
       "      <td>1</td>\n",
       "      <td>478.0</td>\n",
       "      <td>NO</td>\n",
       "      <td>1900</td>\n",
       "      <td>1186.0</td>\n",
       "      <td>120</td>\n",
       "      <td>YES</td>\n",
       "      <td>YES</td>\n",
       "      <td>M</td>\n",
       "      <td>4</td>\n",
       "    </tr>\n",
       "    <tr>\n",
       "      <th>5</th>\n",
       "      <td>2854</td>\n",
       "      <td>13940</td>\n",
       "      <td>106710.0</td>\n",
       "      <td>110</td>\n",
       "      <td>6</td>\n",
       "      <td>NO</td>\n",
       "      <td>9</td>\n",
       "      <td>1</td>\n",
       "      <td>357.0</td>\n",
       "      <td>YES</td>\n",
       "      <td>2200</td>\n",
       "      <td>1250.0</td>\n",
       "      <td>80</td>\n",
       "      <td>NO</td>\n",
       "      <td>NO</td>\n",
       "      <td>F</td>\n",
       "      <td>4</td>\n",
       "    </tr>\n",
       "    <tr>\n",
       "      <th>6</th>\n",
       "      <td>4187</td>\n",
       "      <td>22190</td>\n",
       "      <td>8610.0</td>\n",
       "      <td>110</td>\n",
       "      <td>4</td>\n",
       "      <td>NO</td>\n",
       "      <td>9</td>\n",
       "      <td>1</td>\n",
       "      <td>360.0</td>\n",
       "      <td>NO</td>\n",
       "      <td>1900</td>\n",
       "      <td>1186.0</td>\n",
       "      <td>160</td>\n",
       "      <td>YES</td>\n",
       "      <td>YES</td>\n",
       "      <td>F</td>\n",
       "      <td>4</td>\n",
       "    </tr>\n",
       "  </tbody>\n",
       "</table>\n",
       "</div>"
      ],
      "text/plain": [
       "   car_id  price  Kilometers   hp  Brand Sport  age  Users    gas Metalilic  \\\n",
       "2    3903  27100      3040.0  110      2   YES    8      1  478.0        NO   \n",
       "5    2854  13940    106710.0  110      6    NO    9      1  357.0       YES   \n",
       "6    4187  22190      8610.0  110      4    NO    9      1  360.0        NO   \n",
       "\n",
       "     CC  Weight  QuartTax Automatic  red Owner_gender  door  \n",
       "2  1900  1186.0       120       YES  YES            M     4  \n",
       "5  2200  1250.0        80        NO   NO            F     4  \n",
       "6  1900  1186.0       160       YES  YES            F     4  "
      ]
     },
     "execution_count": 87,
     "metadata": {},
     "output_type": "execute_result"
    }
   ],
   "source": [
    "df_new = df[(df['gas'] > 0) & (df['Kilometers'] > 0) & (df['age'] > 0) & (df['Weight'] > 0) & (df['QuartTax'] > 0)]\n",
    "df_new = df_new[(df_new['door'] > 0) & (df_new['CC'] > 0) & (df_new['Users'] > 0) & (df_new['Brand'] > 0)]\n",
    "df_new = df_new[(df_new['car_id'] > 0) & (df_new['price'] > 0) & (df_new['hp'] > 0)]\n",
    "print(df_new.shape)\n",
    "df_new.head(3)"
   ]
  },
  {
   "cell_type": "markdown",
   "id": "2725dd25",
   "metadata": {},
   "source": [
    "#### Handling categorical variables\n",
    "The following variables: **'Brand, hp, CC, Users, door'** are categorical variables rather than continuous. Categorical variables have levels while continuous variable don't."
   ]
  },
  {
   "cell_type": "code",
   "execution_count": 88,
   "id": "17286242",
   "metadata": {},
   "outputs": [
    {
     "name": "stdout",
     "output_type": "stream",
     "text": [
      "Levels for the variable \"Brand\": [1 2 3 4 5 6]\n",
      "Number per level for the variable \"Brand\": [ 542  560  645 1097  736  553]\n",
      "Number of categories for the variable \"Brand\": 6\n",
      "\n",
      "\n",
      "Levels for the variable \"hp\": [ 70  90 110 192]\n",
      "Number per level for the variable \"hp\": [ 348 1175 1172 1438]\n",
      "Number of categories for the variable \"hp\": 4\n",
      "\n",
      "\n",
      "Levels for the variable \"CC\": [1600 1800 1900 2000 2200]\n",
      "Number per level for the variable \"CC\": [ 473  914 1099  880  767]\n",
      "Number of categories for the variable \"CC\": 5\n",
      "\n",
      "\n",
      "Levels for the variable \"Users\": [1 2 3]\n",
      "Number per level for the variable \"Users\": [2506 1360  267]\n",
      "Number of categories for the variable \"Users\": 3\n",
      "\n",
      "\n",
      "Levels for the variable \"door\": [2 4]\n",
      "Number per level for the variable \"door\": [ 638 3495]\n",
      "Number of categories for the variable \"door\": 2\n",
      "\n",
      "\n"
     ]
    }
   ],
   "source": [
    "varnames = ['Brand', 'hp', 'CC', 'Users', 'door']    \n",
    "for vname in varnames:\n",
    "    print(f'Levels for the variable \"{vname}\": {df_new[vname].value_counts().sort_index().index.values}')\n",
    "    print(f'Number per level for the variable \"{vname}\": {df_new[vname].value_counts().sort_index().values}')\n",
    "    print(f'Number of categories for the variable \"{vname}\": {len(df_new[vname].value_counts().sort_index().values)}\\n\\n')"
   ]
  },
  {
   "cell_type": "markdown",
   "id": "bacf2435",
   "metadata": {},
   "source": [
    "### Generate dummy variables and impute missing values\n",
    "Let's generate **missing dummy variables** for those **features with missing values**, and then **impute the values with missing values** with the **median** of those variables.\n",
    "\n",
    "We will generate columns in the dataframe to indicate missing values (**1**) or no missing values (**0**). \n",
    "\n",
    "The 3 variables with missing values are **'Kilometers', 'gas', 'Weight'**."
   ]
  },
  {
   "cell_type": "code",
   "execution_count": 89,
   "id": "c4b3ecc5",
   "metadata": {},
   "outputs": [
    {
     "data": {
      "text/html": [
       "<div>\n",
       "<style scoped>\n",
       "    .dataframe tbody tr th:only-of-type {\n",
       "        vertical-align: middle;\n",
       "    }\n",
       "\n",
       "    .dataframe tbody tr th {\n",
       "        vertical-align: top;\n",
       "    }\n",
       "\n",
       "    .dataframe thead th {\n",
       "        text-align: right;\n",
       "    }\n",
       "</style>\n",
       "<table border=\"1\" class=\"dataframe\">\n",
       "  <thead>\n",
       "    <tr style=\"text-align: right;\">\n",
       "      <th></th>\n",
       "      <th>car_id</th>\n",
       "      <th>price</th>\n",
       "      <th>Kilometers</th>\n",
       "      <th>hp</th>\n",
       "      <th>Brand</th>\n",
       "      <th>Sport</th>\n",
       "      <th>age</th>\n",
       "      <th>Users</th>\n",
       "      <th>gas</th>\n",
       "      <th>Metalilic</th>\n",
       "      <th>CC</th>\n",
       "      <th>Weight</th>\n",
       "      <th>QuartTax</th>\n",
       "      <th>Automatic</th>\n",
       "      <th>red</th>\n",
       "      <th>Owner_gender</th>\n",
       "      <th>door</th>\n",
       "      <th>Kilometers_miss</th>\n",
       "      <th>gas_miss</th>\n",
       "      <th>Weight_miss</th>\n",
       "    </tr>\n",
       "  </thead>\n",
       "  <tbody>\n",
       "    <tr>\n",
       "      <th>2</th>\n",
       "      <td>3903</td>\n",
       "      <td>27100</td>\n",
       "      <td>3040.0</td>\n",
       "      <td>110</td>\n",
       "      <td>2</td>\n",
       "      <td>YES</td>\n",
       "      <td>8</td>\n",
       "      <td>1</td>\n",
       "      <td>478.0</td>\n",
       "      <td>NO</td>\n",
       "      <td>1900</td>\n",
       "      <td>1186.0</td>\n",
       "      <td>120</td>\n",
       "      <td>YES</td>\n",
       "      <td>YES</td>\n",
       "      <td>M</td>\n",
       "      <td>4</td>\n",
       "      <td>0</td>\n",
       "      <td>0</td>\n",
       "      <td>0</td>\n",
       "    </tr>\n",
       "    <tr>\n",
       "      <th>5</th>\n",
       "      <td>2854</td>\n",
       "      <td>13940</td>\n",
       "      <td>106710.0</td>\n",
       "      <td>110</td>\n",
       "      <td>6</td>\n",
       "      <td>NO</td>\n",
       "      <td>9</td>\n",
       "      <td>1</td>\n",
       "      <td>357.0</td>\n",
       "      <td>YES</td>\n",
       "      <td>2200</td>\n",
       "      <td>1250.0</td>\n",
       "      <td>80</td>\n",
       "      <td>NO</td>\n",
       "      <td>NO</td>\n",
       "      <td>F</td>\n",
       "      <td>4</td>\n",
       "      <td>0</td>\n",
       "      <td>0</td>\n",
       "      <td>0</td>\n",
       "    </tr>\n",
       "    <tr>\n",
       "      <th>6</th>\n",
       "      <td>4187</td>\n",
       "      <td>22190</td>\n",
       "      <td>8610.0</td>\n",
       "      <td>110</td>\n",
       "      <td>4</td>\n",
       "      <td>NO</td>\n",
       "      <td>9</td>\n",
       "      <td>1</td>\n",
       "      <td>360.0</td>\n",
       "      <td>NO</td>\n",
       "      <td>1900</td>\n",
       "      <td>1186.0</td>\n",
       "      <td>160</td>\n",
       "      <td>YES</td>\n",
       "      <td>YES</td>\n",
       "      <td>F</td>\n",
       "      <td>4</td>\n",
       "      <td>0</td>\n",
       "      <td>0</td>\n",
       "      <td>0</td>\n",
       "    </tr>\n",
       "    <tr>\n",
       "      <th>7</th>\n",
       "      <td>460</td>\n",
       "      <td>51300</td>\n",
       "      <td>11040.0</td>\n",
       "      <td>192</td>\n",
       "      <td>3</td>\n",
       "      <td>NO</td>\n",
       "      <td>9</td>\n",
       "      <td>1</td>\n",
       "      <td>380.0</td>\n",
       "      <td>NO</td>\n",
       "      <td>1900</td>\n",
       "      <td>1186.0</td>\n",
       "      <td>160</td>\n",
       "      <td>YES</td>\n",
       "      <td>YES</td>\n",
       "      <td>F</td>\n",
       "      <td>4</td>\n",
       "      <td>0</td>\n",
       "      <td>0</td>\n",
       "      <td>0</td>\n",
       "    </tr>\n",
       "    <tr>\n",
       "      <th>8</th>\n",
       "      <td>3587</td>\n",
       "      <td>35050</td>\n",
       "      <td>12720.0</td>\n",
       "      <td>192</td>\n",
       "      <td>5</td>\n",
       "      <td>YES</td>\n",
       "      <td>10</td>\n",
       "      <td>2</td>\n",
       "      <td>617.0</td>\n",
       "      <td>NO</td>\n",
       "      <td>1600</td>\n",
       "      <td>1165.0</td>\n",
       "      <td>100</td>\n",
       "      <td>YES</td>\n",
       "      <td>NO</td>\n",
       "      <td>M</td>\n",
       "      <td>2</td>\n",
       "      <td>0</td>\n",
       "      <td>0</td>\n",
       "      <td>0</td>\n",
       "    </tr>\n",
       "  </tbody>\n",
       "</table>\n",
       "</div>"
      ],
      "text/plain": [
       "   car_id  price  Kilometers   hp  Brand Sport  age  Users    gas Metalilic  \\\n",
       "2    3903  27100      3040.0  110      2   YES    8      1  478.0        NO   \n",
       "5    2854  13940    106710.0  110      6    NO    9      1  357.0       YES   \n",
       "6    4187  22190      8610.0  110      4    NO    9      1  360.0        NO   \n",
       "7     460  51300     11040.0  192      3    NO    9      1  380.0        NO   \n",
       "8    3587  35050     12720.0  192      5   YES   10      2  617.0        NO   \n",
       "\n",
       "     CC  Weight  QuartTax Automatic  red Owner_gender  door  Kilometers_miss  \\\n",
       "2  1900  1186.0       120       YES  YES            M     4                0   \n",
       "5  2200  1250.0        80        NO   NO            F     4                0   \n",
       "6  1900  1186.0       160       YES  YES            F     4                0   \n",
       "7  1900  1186.0       160       YES  YES            F     4                0   \n",
       "8  1600  1165.0       100       YES   NO            M     2                0   \n",
       "\n",
       "   gas_miss  Weight_miss  \n",
       "2         0            0  \n",
       "5         0            0  \n",
       "6         0            0  \n",
       "7         0            0  \n",
       "8         0            0  "
      ]
     },
     "execution_count": 89,
     "metadata": {},
     "output_type": "execute_result"
    }
   ],
   "source": [
    "import warnings\n",
    "warnings.filterwarnings('ignore')\n",
    "\n",
    "df_new['Kilometers_miss'] = df_new['Kilometers'].isnull() + 0   # df_new['Kilometers'].isnull() is True or False\n",
    "df_new['gas_miss'] = df_new['gas'].isnull() + 0\n",
    "df_new['Weight_miss'] = df_new['Weight'].isnull() + 0\n",
    "\n",
    "df_new.head()"
   ]
  },
  {
   "cell_type": "markdown",
   "id": "66865040",
   "metadata": {},
   "source": [
    "#### Impute missing values with the `median` of its values"
   ]
  },
  {
   "cell_type": "code",
   "execution_count": 90,
   "id": "e52e21e2",
   "metadata": {},
   "outputs": [
    {
     "data": {
      "text/html": [
       "<div>\n",
       "<style scoped>\n",
       "    .dataframe tbody tr th:only-of-type {\n",
       "        vertical-align: middle;\n",
       "    }\n",
       "\n",
       "    .dataframe tbody tr th {\n",
       "        vertical-align: top;\n",
       "    }\n",
       "\n",
       "    .dataframe thead th {\n",
       "        text-align: right;\n",
       "    }\n",
       "</style>\n",
       "<table border=\"1\" class=\"dataframe\">\n",
       "  <thead>\n",
       "    <tr style=\"text-align: right;\">\n",
       "      <th></th>\n",
       "      <th>car_id</th>\n",
       "      <th>price</th>\n",
       "      <th>Kilometers</th>\n",
       "      <th>hp</th>\n",
       "      <th>Brand</th>\n",
       "      <th>Sport</th>\n",
       "      <th>age</th>\n",
       "      <th>Users</th>\n",
       "      <th>gas</th>\n",
       "      <th>Metalilic</th>\n",
       "      <th>CC</th>\n",
       "      <th>Weight</th>\n",
       "      <th>QuartTax</th>\n",
       "      <th>Automatic</th>\n",
       "      <th>red</th>\n",
       "      <th>Owner_gender</th>\n",
       "      <th>door</th>\n",
       "      <th>Kilometers_miss</th>\n",
       "      <th>gas_miss</th>\n",
       "      <th>Weight_miss</th>\n",
       "    </tr>\n",
       "  </thead>\n",
       "  <tbody>\n",
       "    <tr>\n",
       "      <th>140</th>\n",
       "      <td>2024</td>\n",
       "      <td>18300</td>\n",
       "      <td>49210.0</td>\n",
       "      <td>90</td>\n",
       "      <td>5</td>\n",
       "      <td>NO</td>\n",
       "      <td>15</td>\n",
       "      <td>1</td>\n",
       "      <td>398.0</td>\n",
       "      <td>NO</td>\n",
       "      <td>2000</td>\n",
       "      <td>1195.0</td>\n",
       "      <td>160</td>\n",
       "      <td>YES</td>\n",
       "      <td>NO</td>\n",
       "      <td>F</td>\n",
       "      <td>4</td>\n",
       "      <td>0</td>\n",
       "      <td>0</td>\n",
       "      <td>0</td>\n",
       "    </tr>\n",
       "    <tr>\n",
       "      <th>4189</th>\n",
       "      <td>2812</td>\n",
       "      <td>9290</td>\n",
       "      <td>123200.0</td>\n",
       "      <td>110</td>\n",
       "      <td>2</td>\n",
       "      <td>NO</td>\n",
       "      <td>33</td>\n",
       "      <td>1</td>\n",
       "      <td>308.0</td>\n",
       "      <td>NO</td>\n",
       "      <td>2000</td>\n",
       "      <td>1195.0</td>\n",
       "      <td>190</td>\n",
       "      <td>NO</td>\n",
       "      <td>NO</td>\n",
       "      <td>M</td>\n",
       "      <td>4</td>\n",
       "      <td>0</td>\n",
       "      <td>0</td>\n",
       "      <td>0</td>\n",
       "    </tr>\n",
       "    <tr>\n",
       "      <th>4505</th>\n",
       "      <td>2711</td>\n",
       "      <td>18700</td>\n",
       "      <td>172200.0</td>\n",
       "      <td>192</td>\n",
       "      <td>3</td>\n",
       "      <td>NO</td>\n",
       "      <td>35</td>\n",
       "      <td>1</td>\n",
       "      <td>314.0</td>\n",
       "      <td>NO</td>\n",
       "      <td>1900</td>\n",
       "      <td>1186.0</td>\n",
       "      <td>160</td>\n",
       "      <td>YES</td>\n",
       "      <td>YES</td>\n",
       "      <td>M</td>\n",
       "      <td>4</td>\n",
       "      <td>0</td>\n",
       "      <td>0</td>\n",
       "      <td>0</td>\n",
       "    </tr>\n",
       "    <tr>\n",
       "      <th>993</th>\n",
       "      <td>1982</td>\n",
       "      <td>17300</td>\n",
       "      <td>94540.0</td>\n",
       "      <td>70</td>\n",
       "      <td>6</td>\n",
       "      <td>YES</td>\n",
       "      <td>22</td>\n",
       "      <td>1</td>\n",
       "      <td>429.0</td>\n",
       "      <td>NO</td>\n",
       "      <td>1800</td>\n",
       "      <td>1165.0</td>\n",
       "      <td>100</td>\n",
       "      <td>YES</td>\n",
       "      <td>NO</td>\n",
       "      <td>M</td>\n",
       "      <td>4</td>\n",
       "      <td>0</td>\n",
       "      <td>0</td>\n",
       "      <td>0</td>\n",
       "    </tr>\n",
       "    <tr>\n",
       "      <th>4698</th>\n",
       "      <td>3429</td>\n",
       "      <td>15580</td>\n",
       "      <td>210120.0</td>\n",
       "      <td>110</td>\n",
       "      <td>5</td>\n",
       "      <td>YES</td>\n",
       "      <td>35</td>\n",
       "      <td>2</td>\n",
       "      <td>538.0</td>\n",
       "      <td>YES</td>\n",
       "      <td>2200</td>\n",
       "      <td>1250.0</td>\n",
       "      <td>270</td>\n",
       "      <td>YES</td>\n",
       "      <td>YES</td>\n",
       "      <td>M</td>\n",
       "      <td>4</td>\n",
       "      <td>0</td>\n",
       "      <td>0</td>\n",
       "      <td>0</td>\n",
       "    </tr>\n",
       "  </tbody>\n",
       "</table>\n",
       "</div>"
      ],
      "text/plain": [
       "      car_id  price  Kilometers   hp  Brand Sport  age  Users    gas  \\\n",
       "140     2024  18300     49210.0   90      5    NO   15      1  398.0   \n",
       "4189    2812   9290    123200.0  110      2    NO   33      1  308.0   \n",
       "4505    2711  18700    172200.0  192      3    NO   35      1  314.0   \n",
       "993     1982  17300     94540.0   70      6   YES   22      1  429.0   \n",
       "4698    3429  15580    210120.0  110      5   YES   35      2  538.0   \n",
       "\n",
       "     Metalilic    CC  Weight  QuartTax Automatic  red Owner_gender  door  \\\n",
       "140         NO  2000  1195.0       160       YES   NO            F     4   \n",
       "4189        NO  2000  1195.0       190        NO   NO            M     4   \n",
       "4505        NO  1900  1186.0       160       YES  YES            M     4   \n",
       "993         NO  1800  1165.0       100       YES   NO            M     4   \n",
       "4698       YES  2200  1250.0       270       YES  YES            M     4   \n",
       "\n",
       "      Kilometers_miss  gas_miss  Weight_miss  \n",
       "140                 0         0            0  \n",
       "4189                0         0            0  \n",
       "4505                0         0            0  \n",
       "993                 0         0            0  \n",
       "4698                0         0            0  "
      ]
     },
     "execution_count": 90,
     "metadata": {},
     "output_type": "execute_result"
    }
   ],
   "source": [
    "varnames = ['Kilometers','gas','Weight']\n",
    "\n",
    "for vname in varnames:\n",
    "      df_new[vname].fillna(df_new[vname].median(), inplace = True)     # replace missing value with median\n",
    "df_new.sample(5)"
   ]
  },
  {
   "cell_type": "markdown",
   "id": "764c988d",
   "metadata": {},
   "source": [
    "**Generate dummy variables for other categorical variables (use `pd.get_dummies`)**"
   ]
  },
  {
   "cell_type": "code",
   "execution_count": 91,
   "id": "46f2bb40",
   "metadata": {},
   "outputs": [
    {
     "data": {
      "text/html": [
       "<div>\n",
       "<style scoped>\n",
       "    .dataframe tbody tr th:only-of-type {\n",
       "        vertical-align: middle;\n",
       "    }\n",
       "\n",
       "    .dataframe tbody tr th {\n",
       "        vertical-align: top;\n",
       "    }\n",
       "\n",
       "    .dataframe thead th {\n",
       "        text-align: right;\n",
       "    }\n",
       "</style>\n",
       "<table border=\"1\" class=\"dataframe\">\n",
       "  <thead>\n",
       "    <tr style=\"text-align: right;\">\n",
       "      <th></th>\n",
       "      <th>Metalilic_NO</th>\n",
       "      <th>Metalilic_YES</th>\n",
       "    </tr>\n",
       "  </thead>\n",
       "  <tbody>\n",
       "    <tr>\n",
       "      <th>2</th>\n",
       "      <td>1</td>\n",
       "      <td>0</td>\n",
       "    </tr>\n",
       "    <tr>\n",
       "      <th>5</th>\n",
       "      <td>0</td>\n",
       "      <td>1</td>\n",
       "    </tr>\n",
       "    <tr>\n",
       "      <th>6</th>\n",
       "      <td>1</td>\n",
       "      <td>0</td>\n",
       "    </tr>\n",
       "    <tr>\n",
       "      <th>7</th>\n",
       "      <td>1</td>\n",
       "      <td>0</td>\n",
       "    </tr>\n",
       "    <tr>\n",
       "      <th>8</th>\n",
       "      <td>1</td>\n",
       "      <td>0</td>\n",
       "    </tr>\n",
       "  </tbody>\n",
       "</table>\n",
       "</div>"
      ],
      "text/plain": [
       "   Metalilic_NO  Metalilic_YES\n",
       "2             1              0\n",
       "5             0              1\n",
       "6             1              0\n",
       "7             1              0\n",
       "8             1              0"
      ]
     },
     "execution_count": 91,
     "metadata": {},
     "output_type": "execute_result"
    }
   ],
   "source": [
    "Metalilic = 'Metalilic' + '_' + df_new.Metalilic.astype(str)     # 'Metalilic_YES' or 'Metalilic_NO'\n",
    "df_Metalilic = pd.get_dummies(Metalilic)\n",
    "\n",
    "df_Metalilic.head()"
   ]
  },
  {
   "cell_type": "markdown",
   "id": "8e135371",
   "metadata": {},
   "source": [
    "**Let's do same to the rest...**"
   ]
  },
  {
   "cell_type": "code",
   "execution_count": 92,
   "id": "685b3836",
   "metadata": {},
   "outputs": [],
   "source": [
    "hp = 'hp' + '_' + df_new.hp.astype(str)\n",
    "df_hp = pd.get_dummies(hp)\n",
    "\n",
    "Brand = 'Brand' + '_' + df_new.Brand.astype(str)\n",
    "df_Brand = pd.get_dummies(Brand)\n",
    "\n",
    "Sport = 'Sport' + '_' + df_new.Sport.astype(str)\n",
    "df_Sport = pd.get_dummies(Sport)\n",
    "\n",
    "Users = 'Users' + '_' + df_new.Users.astype(str)\n",
    "df_Users = pd.get_dummies(Users)\n",
    "\n",
    "CC = 'CC' + '_' + df_new.CC.astype(str)\n",
    "df_CC = pd.get_dummies(CC)\n",
    "\n",
    "Automatic = 'Automatic' + '_' + df_new.Automatic.astype(str)\n",
    "df_Automatic = pd.get_dummies(Automatic)\n",
    "\n",
    "red = 'red' + '_' + df_new.red.astype(str)\n",
    "df_red = pd.get_dummies(red)\n",
    "\n",
    "Owner_gender = 'Owner_gender' + '_' + df_new.Owner_gender.astype(str)\n",
    "df_Owner_gender = pd.get_dummies(Owner_gender)\n",
    "\n",
    "door = 'door' + '_' + df_new.door.astype(str)\n",
    "df_door = pd.get_dummies(door)"
   ]
  },
  {
   "cell_type": "markdown",
   "id": "a9beeb9b",
   "metadata": {},
   "source": [
    "Append all the dummy variables generated above to the original data frame **'df_new'**"
   ]
  },
  {
   "cell_type": "code",
   "execution_count": 93,
   "id": "84187485",
   "metadata": {},
   "outputs": [
    {
     "name": "stdout",
     "output_type": "stream",
     "text": [
      "(4133, 45)\n"
     ]
    },
    {
     "data": {
      "text/html": [
       "<div>\n",
       "<style scoped>\n",
       "    .dataframe tbody tr th:only-of-type {\n",
       "        vertical-align: middle;\n",
       "    }\n",
       "\n",
       "    .dataframe tbody tr th {\n",
       "        vertical-align: top;\n",
       "    }\n",
       "\n",
       "    .dataframe thead th {\n",
       "        text-align: right;\n",
       "    }\n",
       "</style>\n",
       "<table border=\"1\" class=\"dataframe\">\n",
       "  <thead>\n",
       "    <tr style=\"text-align: right;\">\n",
       "      <th></th>\n",
       "      <th>car_id</th>\n",
       "      <th>price</th>\n",
       "      <th>Kilometers</th>\n",
       "      <th>hp</th>\n",
       "      <th>Brand</th>\n",
       "      <th>Sport</th>\n",
       "      <th>age</th>\n",
       "      <th>Users</th>\n",
       "      <th>gas</th>\n",
       "      <th>Metalilic</th>\n",
       "      <th>...</th>\n",
       "      <th>Users_2</th>\n",
       "      <th>Users_3</th>\n",
       "      <th>Automatic_NO</th>\n",
       "      <th>Automatic_YES</th>\n",
       "      <th>red_NO</th>\n",
       "      <th>red_YES</th>\n",
       "      <th>Owner_gender_F</th>\n",
       "      <th>Owner_gender_M</th>\n",
       "      <th>door_2</th>\n",
       "      <th>door_4</th>\n",
       "    </tr>\n",
       "  </thead>\n",
       "  <tbody>\n",
       "    <tr>\n",
       "      <th>2</th>\n",
       "      <td>3903</td>\n",
       "      <td>27100</td>\n",
       "      <td>3040.0</td>\n",
       "      <td>110</td>\n",
       "      <td>2</td>\n",
       "      <td>YES</td>\n",
       "      <td>8</td>\n",
       "      <td>1</td>\n",
       "      <td>478.0</td>\n",
       "      <td>NO</td>\n",
       "      <td>...</td>\n",
       "      <td>0</td>\n",
       "      <td>0</td>\n",
       "      <td>0</td>\n",
       "      <td>1</td>\n",
       "      <td>0</td>\n",
       "      <td>1</td>\n",
       "      <td>0</td>\n",
       "      <td>1</td>\n",
       "      <td>0</td>\n",
       "      <td>1</td>\n",
       "    </tr>\n",
       "    <tr>\n",
       "      <th>5</th>\n",
       "      <td>2854</td>\n",
       "      <td>13940</td>\n",
       "      <td>106710.0</td>\n",
       "      <td>110</td>\n",
       "      <td>6</td>\n",
       "      <td>NO</td>\n",
       "      <td>9</td>\n",
       "      <td>1</td>\n",
       "      <td>357.0</td>\n",
       "      <td>YES</td>\n",
       "      <td>...</td>\n",
       "      <td>0</td>\n",
       "      <td>0</td>\n",
       "      <td>1</td>\n",
       "      <td>0</td>\n",
       "      <td>1</td>\n",
       "      <td>0</td>\n",
       "      <td>1</td>\n",
       "      <td>0</td>\n",
       "      <td>0</td>\n",
       "      <td>1</td>\n",
       "    </tr>\n",
       "    <tr>\n",
       "      <th>6</th>\n",
       "      <td>4187</td>\n",
       "      <td>22190</td>\n",
       "      <td>8610.0</td>\n",
       "      <td>110</td>\n",
       "      <td>4</td>\n",
       "      <td>NO</td>\n",
       "      <td>9</td>\n",
       "      <td>1</td>\n",
       "      <td>360.0</td>\n",
       "      <td>NO</td>\n",
       "      <td>...</td>\n",
       "      <td>0</td>\n",
       "      <td>0</td>\n",
       "      <td>0</td>\n",
       "      <td>1</td>\n",
       "      <td>0</td>\n",
       "      <td>1</td>\n",
       "      <td>1</td>\n",
       "      <td>0</td>\n",
       "      <td>0</td>\n",
       "      <td>1</td>\n",
       "    </tr>\n",
       "    <tr>\n",
       "      <th>7</th>\n",
       "      <td>460</td>\n",
       "      <td>51300</td>\n",
       "      <td>11040.0</td>\n",
       "      <td>192</td>\n",
       "      <td>3</td>\n",
       "      <td>NO</td>\n",
       "      <td>9</td>\n",
       "      <td>1</td>\n",
       "      <td>380.0</td>\n",
       "      <td>NO</td>\n",
       "      <td>...</td>\n",
       "      <td>0</td>\n",
       "      <td>0</td>\n",
       "      <td>0</td>\n",
       "      <td>1</td>\n",
       "      <td>0</td>\n",
       "      <td>1</td>\n",
       "      <td>1</td>\n",
       "      <td>0</td>\n",
       "      <td>0</td>\n",
       "      <td>1</td>\n",
       "    </tr>\n",
       "    <tr>\n",
       "      <th>8</th>\n",
       "      <td>3587</td>\n",
       "      <td>35050</td>\n",
       "      <td>12720.0</td>\n",
       "      <td>192</td>\n",
       "      <td>5</td>\n",
       "      <td>YES</td>\n",
       "      <td>10</td>\n",
       "      <td>2</td>\n",
       "      <td>617.0</td>\n",
       "      <td>NO</td>\n",
       "      <td>...</td>\n",
       "      <td>1</td>\n",
       "      <td>0</td>\n",
       "      <td>0</td>\n",
       "      <td>1</td>\n",
       "      <td>1</td>\n",
       "      <td>0</td>\n",
       "      <td>0</td>\n",
       "      <td>1</td>\n",
       "      <td>1</td>\n",
       "      <td>0</td>\n",
       "    </tr>\n",
       "  </tbody>\n",
       "</table>\n",
       "<p>5 rows × 45 columns</p>\n",
       "</div>"
      ],
      "text/plain": [
       "   car_id  price  Kilometers   hp  Brand Sport  age  Users    gas Metalilic  \\\n",
       "2    3903  27100      3040.0  110      2   YES    8      1  478.0        NO   \n",
       "5    2854  13940    106710.0  110      6    NO    9      1  357.0       YES   \n",
       "6    4187  22190      8610.0  110      4    NO    9      1  360.0        NO   \n",
       "7     460  51300     11040.0  192      3    NO    9      1  380.0        NO   \n",
       "8    3587  35050     12720.0  192      5   YES   10      2  617.0        NO   \n",
       "\n",
       "   ...  Users_2  Users_3  Automatic_NO Automatic_YES red_NO red_YES  \\\n",
       "2  ...        0        0             0             1      0       1   \n",
       "5  ...        0        0             1             0      1       0   \n",
       "6  ...        0        0             0             1      0       1   \n",
       "7  ...        0        0             0             1      0       1   \n",
       "8  ...        1        0             0             1      1       0   \n",
       "\n",
       "   Owner_gender_F  Owner_gender_M  door_2  door_4  \n",
       "2               0               1       0       1  \n",
       "5               1               0       0       1  \n",
       "6               1               0       0       1  \n",
       "7               1               0       0       1  \n",
       "8               0               1       1       0  \n",
       "\n",
       "[5 rows x 45 columns]"
      ]
     },
     "execution_count": 93,
     "metadata": {},
     "output_type": "execute_result"
    }
   ],
   "source": [
    "for df in [df_Metalilic, df_hp, df_Brand, df_Sport, df_Users, df_Automatic, df_red, df_Owner_gender, df_door]:\n",
    "      df_new = pd.concat([df_new, df], axis = 1)\n",
    "\n",
    "print(df_new.shape)\n",
    "df_new.head()"
   ]
  },
  {
   "cell_type": "markdown",
   "id": "cb140197",
   "metadata": {},
   "source": [
    "Let's drop the variables **'Metalilic', 'hp', 'Brand', 'Sport', 'Users', 'CC', 'Automatic', 'red', 'Owner_gender', \n",
    "'door'** from the data frame 'df_new' since we have created dummies for them."
   ]
  },
  {
   "cell_type": "code",
   "execution_count": 94,
   "id": "4b3d0fc1",
   "metadata": {},
   "outputs": [
    {
     "data": {
      "text/html": [
       "<div>\n",
       "<style scoped>\n",
       "    .dataframe tbody tr th:only-of-type {\n",
       "        vertical-align: middle;\n",
       "    }\n",
       "\n",
       "    .dataframe tbody tr th {\n",
       "        vertical-align: top;\n",
       "    }\n",
       "\n",
       "    .dataframe thead th {\n",
       "        text-align: right;\n",
       "    }\n",
       "</style>\n",
       "<table border=\"1\" class=\"dataframe\">\n",
       "  <thead>\n",
       "    <tr style=\"text-align: right;\">\n",
       "      <th></th>\n",
       "      <th>car_id</th>\n",
       "      <th>price</th>\n",
       "      <th>Kilometers</th>\n",
       "      <th>age</th>\n",
       "      <th>gas</th>\n",
       "      <th>Weight</th>\n",
       "      <th>QuartTax</th>\n",
       "      <th>Kilometers_miss</th>\n",
       "      <th>gas_miss</th>\n",
       "      <th>Weight_miss</th>\n",
       "      <th>...</th>\n",
       "      <th>Users_2</th>\n",
       "      <th>Users_3</th>\n",
       "      <th>Automatic_NO</th>\n",
       "      <th>Automatic_YES</th>\n",
       "      <th>red_NO</th>\n",
       "      <th>red_YES</th>\n",
       "      <th>Owner_gender_F</th>\n",
       "      <th>Owner_gender_M</th>\n",
       "      <th>door_2</th>\n",
       "      <th>door_4</th>\n",
       "    </tr>\n",
       "  </thead>\n",
       "  <tbody>\n",
       "    <tr>\n",
       "      <th>2</th>\n",
       "      <td>3903</td>\n",
       "      <td>27100</td>\n",
       "      <td>3040.0</td>\n",
       "      <td>8</td>\n",
       "      <td>478.0</td>\n",
       "      <td>1186.0</td>\n",
       "      <td>120</td>\n",
       "      <td>0</td>\n",
       "      <td>0</td>\n",
       "      <td>0</td>\n",
       "      <td>...</td>\n",
       "      <td>0</td>\n",
       "      <td>0</td>\n",
       "      <td>0</td>\n",
       "      <td>1</td>\n",
       "      <td>0</td>\n",
       "      <td>1</td>\n",
       "      <td>0</td>\n",
       "      <td>1</td>\n",
       "      <td>0</td>\n",
       "      <td>1</td>\n",
       "    </tr>\n",
       "    <tr>\n",
       "      <th>5</th>\n",
       "      <td>2854</td>\n",
       "      <td>13940</td>\n",
       "      <td>106710.0</td>\n",
       "      <td>9</td>\n",
       "      <td>357.0</td>\n",
       "      <td>1250.0</td>\n",
       "      <td>80</td>\n",
       "      <td>0</td>\n",
       "      <td>0</td>\n",
       "      <td>0</td>\n",
       "      <td>...</td>\n",
       "      <td>0</td>\n",
       "      <td>0</td>\n",
       "      <td>1</td>\n",
       "      <td>0</td>\n",
       "      <td>1</td>\n",
       "      <td>0</td>\n",
       "      <td>1</td>\n",
       "      <td>0</td>\n",
       "      <td>0</td>\n",
       "      <td>1</td>\n",
       "    </tr>\n",
       "  </tbody>\n",
       "</table>\n",
       "<p>2 rows × 35 columns</p>\n",
       "</div>"
      ],
      "text/plain": [
       "   car_id  price  Kilometers  age    gas  Weight  QuartTax  Kilometers_miss  \\\n",
       "2    3903  27100      3040.0    8  478.0  1186.0       120                0   \n",
       "5    2854  13940    106710.0    9  357.0  1250.0        80                0   \n",
       "\n",
       "   gas_miss  Weight_miss  ...  Users_2  Users_3  Automatic_NO  Automatic_YES  \\\n",
       "2         0            0  ...        0        0             0              1   \n",
       "5         0            0  ...        0        0             1              0   \n",
       "\n",
       "   red_NO  red_YES  Owner_gender_F  Owner_gender_M  door_2  door_4  \n",
       "2       0        1               0               1       0       1  \n",
       "5       1        0               1               0       0       1  \n",
       "\n",
       "[2 rows x 35 columns]"
      ]
     },
     "execution_count": 94,
     "metadata": {},
     "output_type": "execute_result"
    }
   ],
   "source": [
    "vnames = ['Metalilic', 'hp', 'Brand', 'Sport', 'Users', 'CC', 'Automatic', 'red', 'Owner_gender', 'door']\n",
    "df_new.drop(vnames, axis = 1, inplace = True)                   # NOTE: no return value therefore inplace = True\n",
    "df_new.head(2)"
   ]
  },
  {
   "cell_type": "markdown",
   "id": "c77ce656",
   "metadata": {},
   "source": [
    "### QQ-plot of target variable\n",
    "One of the most important assumption in training a linear regression model is that the target variable should be normally distributed. We will use the **QQ plot** graph to check if the target variable **'price'** is **normally distributed**. We will also check the **density** graph and **boxplot** for the target variable **'price'** to confirm the conclusion.\n",
    "\n",
    "**The condition for a linear regression is that the target variable should be normally distributed**"
   ]
  },
  {
   "cell_type": "code",
   "execution_count": 96,
   "id": "b806f1dc",
   "metadata": {},
   "outputs": [],
   "source": [
    "y_train = df_new.price"
   ]
  },
  {
   "cell_type": "code",
   "execution_count": 97,
   "id": "af766fc6",
   "metadata": {},
   "outputs": [
    {
     "data": {
      "image/png": "[encoded data removed]",
      "text/plain": [
       "<Figure size 1296x360 with 3 Axes>"
      ]
     },
     "metadata": {},
     "output_type": "display_data"
    }
   ],
   "source": [
    "fig, axes = plt.subplots(1, 3, figsize = (18, 5), sharex = False)\n",
    "stats.probplot(y_train, dist = 'norm', plot = axes[0])                # qq-plot\n",
    "sns.kdeplot(y_train, ax = axes[1])\n",
    "sns.boxplot(y_train, ax = axes[2])\n",
    "plt.show()"
   ]
  },
  {
   "cell_type": "markdown",
   "id": "b712f87c",
   "metadata": {},
   "source": [
    "The plots indicate that the target **price** is **not normally distributed**. The **density** plot shows that car prices after about **30000** are **outliers**. The **boxplot** shows we have too many **outliers**. Let's check for outliers in the dataset and remove them..."
   ]
  },
  {
   "cell_type": "markdown",
   "id": "3ac2e7ad",
   "metadata": {},
   "source": [
    "### Helper function to detect outliers\n",
    "We will assume that any **data point (absolute value) greater than 3 times the standard deviation is an outlier**."
   ]
  },
  {
   "cell_type": "code",
   "execution_count": 98,
   "id": "018ba0bb",
   "metadata": {},
   "outputs": [],
   "source": [
    "def detect_outliers(data):\n",
    "    outliers = []\n",
    "    threshold = 3                       # 3*std assuming std = 1 after transforming the data Standard Normal Distribution\n",
    "    mean = np.mean(data)\n",
    "    std = np.std(data)\n",
    "    \n",
    "    for x in data:\n",
    "        z_score = (x - mean) / std       # transforms the dataset to have mean = 0 and SD = 1\n",
    "        if np.abs(z_score) > threshold:\n",
    "            outliers.append(x)\n",
    "    return outliers"
   ]
  },
  {
   "cell_type": "markdown",
   "id": "93d62463",
   "metadata": {},
   "source": [
    "### Helper function to remove outliers from data\n",
    "We shall calculate the **Lower fence(bound)** and **Upper fence(bound)** based on the **Inter Quartile Range (IQR)** and any data point outside these fences will be discarded as outliers."
   ]
  },
  {
   "cell_type": "code",
   "execution_count": 99,
   "id": "72c77bb5",
   "metadata": {},
   "outputs": [],
   "source": [
    "def remove_outliers(data):\n",
    "    dataset_new = []\n",
    "    data = sorted(data)\n",
    "    q1, q3 = np.percentile(data, [25, 75])\n",
    "    iqr = q3 - q1\n",
    "    lower_fence = q1 - 1.5 * iqr\n",
    "    upper_fence = q3 + 1.5 * iqr\n",
    "    for x in data:\n",
    "        if (x >= lower_fence) & (x <= upper_fence):\n",
    "            dataset_new.append(x)\n",
    "    return dataset_new"
   ]
  },
  {
   "cell_type": "markdown",
   "id": "2d8088a4",
   "metadata": {},
   "source": [
    "**Detect outliers**"
   ]
  },
  {
   "cell_type": "code",
   "execution_count": 100,
   "id": "ade9fefb",
   "metadata": {},
   "outputs": [
    {
     "name": "stdout",
     "output_type": "stream",
     "text": [
      "121\n",
      "[51300, 82540, 77370, 52440, 59730, 48240, 50860, 50740, 54480, 58410, 48720, 63890, 56890, 50320, 52630, 56090, 57420, 69710, 55730, 50390]\n"
     ]
    }
   ],
   "source": [
    "outliers = detect_outliers(y_train)\n",
    "print(len(outliers))\n",
    "print(outliers[:20])"
   ]
  },
  {
   "cell_type": "markdown",
   "id": "17a12797",
   "metadata": {},
   "source": [
    "**Remove outliers from target variable**"
   ]
  },
  {
   "cell_type": "code",
   "execution_count": 101,
   "id": "8d49c264",
   "metadata": {},
   "outputs": [
    {
     "data": {
      "image/png": "[encoded data removed]",
      "text/plain": [
       "<Figure size 1296x360 with 3 Axes>"
      ]
     },
     "metadata": {},
     "output_type": "display_data"
    }
   ],
   "source": [
    "y_train_new = remove_outliers(y_train)\n",
    "\n",
    "fig, axes = plt.subplots(1, 3, figsize = (18, 5), sharex = False)\n",
    "stats.probplot(y_train_new, dist = 'norm', plot = axes[0])                # qq-plot\n",
    "sns.kdeplot(y_train_new, ax = axes[1])\n",
    "sns.boxplot(y_train_new, ax = axes[2])\n",
    "plt.show()"
   ]
  },
  {
   "cell_type": "code",
   "execution_count": 103,
   "id": "ad4b13a3",
   "metadata": {},
   "outputs": [
    {
     "name": "stdout",
     "output_type": "stream",
     "text": [
      "lower fence = 4760\n",
      "upper fence = 26750\n"
     ]
    }
   ],
   "source": [
    "lower_fence = min(y_train_new)\n",
    "upper_fence = max(y_train_new)\n",
    "print(f'lower fence = {lower_fence}\\nupper fence = {upper_fence}')"
   ]
  },
  {
   "cell_type": "markdown",
   "id": "bfa545c6",
   "metadata": {},
   "source": [
    "### Truncate the DataFrame\n",
    "We will truncate the DataFrame to align with the new target (with outliers removed)."
   ]
  },
  {
   "cell_type": "code",
   "execution_count": 104,
   "id": "404bc5d3",
   "metadata": {},
   "outputs": [
    {
     "name": "stdout",
     "output_type": "stream",
     "text": [
      "Before truncation: (4133, 35)\n",
      "After truncation: (3959, 35)\n"
     ]
    }
   ],
   "source": [
    "print(f'Before truncation: {df_new.shape}')\n",
    "df_fix = df_new[(df_new.price >= lower_fence) & (df_new.price <= upper_fence)]     # observations with outliers removed\n",
    "print(f'After truncation: {df_fix.shape}')"
   ]
  },
  {
   "cell_type": "markdown",
   "id": "4bbbc6d3",
   "metadata": {},
   "source": [
    "**Investigate the target one more time**"
   ]
  },
  {
   "cell_type": "code",
   "execution_count": 105,
   "id": "27e062c2",
   "metadata": {},
   "outputs": [
    {
     "data": {
      "image/png": "[encoded data removed]",
      "text/plain": [
       "<Figure size 1296x360 with 3 Axes>"
      ]
     },
     "metadata": {},
     "output_type": "display_data"
    }
   ],
   "source": [
    "y_train = df_fix.price\n",
    "\n",
    "fig, axes = plt.subplots(1, 3, figsize = (18, 5), sharex = False)\n",
    "stats.probplot(y_train, dist = 'norm', plot = axes[0])               \n",
    "sns.kdeplot(y_train, ax = axes[1])\n",
    "sns.boxplot(y_train, ax = axes[2])\n",
    "plt.show()"
   ]
  },
  {
   "cell_type": "markdown",
   "id": "478cee42",
   "metadata": {},
   "source": [
    "Our target is now fairly **normally distributed**!\n",
    "\n",
    "### How good are these variables or features at predicting the price?\n",
    "We will compute the **correlation between each independent** variable and the target variable **'price'**, and rank the absolute value of the **Pearson correlation coefficients in descending order**. This will give us some clues about the importance of eavh variable in predicting the target."
   ]
  },
  {
   "cell_type": "code",
   "execution_count": 106,
   "id": "83912bde",
   "metadata": {},
   "outputs": [
    {
     "name": "stdout",
     "output_type": "stream",
     "text": [
      "['car_id', 'price', 'Kilometers', 'age', 'gas', 'Weight', 'QuartTax', 'Kilometers_miss', 'gas_miss', 'Weight_miss', 'Metalilic_NO', 'Metalilic_YES', 'hp_110', 'hp_192', 'hp_70', 'hp_90', 'Brand_1', 'Brand_2', 'Brand_3', 'Brand_4', 'Brand_5', 'Brand_6', 'Sport_NO', 'Sport_YES', 'Users_1', 'Users_2', 'Users_3', 'Automatic_NO', 'Automatic_YES', 'red_NO', 'red_YES', 'Owner_gender_F', 'Owner_gender_M', 'door_2', 'door_4']\n"
     ]
    }
   ],
   "source": [
    "varnames = list(df_fix)\n",
    "print(varnames)"
   ]
  },
  {
   "cell_type": "code",
   "execution_count": 107,
   "id": "762145ab",
   "metadata": {},
   "outputs": [
    {
     "name": "stdout",
     "output_type": "stream",
     "text": [
      "['Kilometers', 'age', 'gas', 'Weight', 'QuartTax', 'Kilometers_miss', 'gas_miss', 'Weight_miss', 'Metalilic_NO', 'Metalilic_YES', 'hp_110', 'hp_192', 'hp_70', 'hp_90', 'Brand_1', 'Brand_2', 'Brand_3', 'Brand_4', 'Brand_5', 'Brand_6', 'Sport_NO', 'Sport_YES', 'Users_1', 'Users_2', 'Users_3', 'Automatic_NO', 'Automatic_YES', 'red_NO', 'red_YES', 'Owner_gender_F', 'Owner_gender_M', 'door_2', 'door_4']\n"
     ]
    }
   ],
   "source": [
    "varnames.remove('price')        # target\n",
    "varnames.remove('car_id')       # not a predictor\n",
    "print(varnames)"
   ]
  },
  {
   "cell_type": "markdown",
   "id": "cd1528d3",
   "metadata": {},
   "source": [
    "### Calculate and rank the correlation coefficients\n",
    "We will use the **pearson correlation** to calcualte the correlations"
   ]
  },
  {
   "cell_type": "code",
   "execution_count": 108,
   "id": "f41f6e02",
   "metadata": {},
   "outputs": [
    {
     "data": {
      "text/html": [
       "<div>\n",
       "<style scoped>\n",
       "    .dataframe tbody tr th:only-of-type {\n",
       "        vertical-align: middle;\n",
       "    }\n",
       "\n",
       "    .dataframe tbody tr th {\n",
       "        vertical-align: top;\n",
       "    }\n",
       "\n",
       "    .dataframe thead th {\n",
       "        text-align: right;\n",
       "    }\n",
       "</style>\n",
       "<table border=\"1\" class=\"dataframe\">\n",
       "  <thead>\n",
       "    <tr style=\"text-align: right;\">\n",
       "      <th></th>\n",
       "      <th>varname</th>\n",
       "      <th>correlation</th>\n",
       "    </tr>\n",
       "  </thead>\n",
       "  <tbody>\n",
       "    <tr>\n",
       "      <th>0</th>\n",
       "      <td>Kilometers</td>\n",
       "      <td>-0.208</td>\n",
       "    </tr>\n",
       "    <tr>\n",
       "      <th>1</th>\n",
       "      <td>age</td>\n",
       "      <td>-0.240</td>\n",
       "    </tr>\n",
       "    <tr>\n",
       "      <th>2</th>\n",
       "      <td>gas</td>\n",
       "      <td>0.006</td>\n",
       "    </tr>\n",
       "    <tr>\n",
       "      <th>3</th>\n",
       "      <td>Weight</td>\n",
       "      <td>0.004</td>\n",
       "    </tr>\n",
       "    <tr>\n",
       "      <th>4</th>\n",
       "      <td>QuartTax</td>\n",
       "      <td>-0.002</td>\n",
       "    </tr>\n",
       "  </tbody>\n",
       "</table>\n",
       "</div>"
      ],
      "text/plain": [
       "      varname  correlation\n",
       "0  Kilometers       -0.208\n",
       "1         age       -0.240\n",
       "2         gas        0.006\n",
       "3      Weight        0.004\n",
       "4    QuartTax       -0.002"
      ]
     },
     "execution_count": 108,
     "metadata": {},
     "output_type": "execute_result"
    }
   ],
   "source": [
    "Y = df_fix.price                               # target\n",
    "corrs = []\n",
    "for vaname in varnames:\n",
    "    X = df_fix[vaname]                         # each variable\n",
    "    corr, p_value = stats.pearsonr(X, Y)       # correlation between each variable and the target\n",
    "    corr = np.round(corr, 3)\n",
    "    corrs.append(corr)\n",
    "    \n",
    "corr_df = pd.DataFrame({'varname': varnames, 'correlation': corrs})\n",
    "corr_df.head()"
   ]
  },
  {
   "cell_type": "markdown",
   "id": "3391c795",
   "metadata": {},
   "source": [
    "#### Rank the absolute correlations"
   ]
  },
  {
   "cell_type": "code",
   "execution_count": 109,
   "id": "069305fd",
   "metadata": {},
   "outputs": [
    {
     "data": {
      "text/html": [
       "<div>\n",
       "<style scoped>\n",
       "    .dataframe tbody tr th:only-of-type {\n",
       "        vertical-align: middle;\n",
       "    }\n",
       "\n",
       "    .dataframe tbody tr th {\n",
       "        vertical-align: top;\n",
       "    }\n",
       "\n",
       "    .dataframe thead th {\n",
       "        text-align: right;\n",
       "    }\n",
       "</style>\n",
       "<table border=\"1\" class=\"dataframe\">\n",
       "  <thead>\n",
       "    <tr style=\"text-align: right;\">\n",
       "      <th></th>\n",
       "      <th>varname</th>\n",
       "      <th>correlation</th>\n",
       "      <th>ab_corr</th>\n",
       "      <th>order</th>\n",
       "    </tr>\n",
       "  </thead>\n",
       "  <tbody>\n",
       "    <tr>\n",
       "      <th>26</th>\n",
       "      <td>Automatic_YES</td>\n",
       "      <td>0.742</td>\n",
       "      <td>0.742</td>\n",
       "      <td>1</td>\n",
       "    </tr>\n",
       "    <tr>\n",
       "      <th>25</th>\n",
       "      <td>Automatic_NO</td>\n",
       "      <td>-0.742</td>\n",
       "      <td>0.742</td>\n",
       "      <td>2</td>\n",
       "    </tr>\n",
       "    <tr>\n",
       "      <th>11</th>\n",
       "      <td>hp_192</td>\n",
       "      <td>0.272</td>\n",
       "      <td>0.272</td>\n",
       "      <td>3</td>\n",
       "    </tr>\n",
       "    <tr>\n",
       "      <th>1</th>\n",
       "      <td>age</td>\n",
       "      <td>-0.240</td>\n",
       "      <td>0.240</td>\n",
       "      <td>4</td>\n",
       "    </tr>\n",
       "    <tr>\n",
       "      <th>0</th>\n",
       "      <td>Kilometers</td>\n",
       "      <td>-0.208</td>\n",
       "      <td>0.208</td>\n",
       "      <td>5</td>\n",
       "    </tr>\n",
       "    <tr>\n",
       "      <th>14</th>\n",
       "      <td>Brand_1</td>\n",
       "      <td>-0.166</td>\n",
       "      <td>0.166</td>\n",
       "      <td>6</td>\n",
       "    </tr>\n",
       "    <tr>\n",
       "      <th>19</th>\n",
       "      <td>Brand_6</td>\n",
       "      <td>0.149</td>\n",
       "      <td>0.149</td>\n",
       "      <td>7</td>\n",
       "    </tr>\n",
       "    <tr>\n",
       "      <th>13</th>\n",
       "      <td>hp_90</td>\n",
       "      <td>-0.145</td>\n",
       "      <td>0.145</td>\n",
       "      <td>8</td>\n",
       "    </tr>\n",
       "    <tr>\n",
       "      <th>18</th>\n",
       "      <td>Brand_5</td>\n",
       "      <td>0.104</td>\n",
       "      <td>0.104</td>\n",
       "      <td>9</td>\n",
       "    </tr>\n",
       "    <tr>\n",
       "      <th>12</th>\n",
       "      <td>hp_70</td>\n",
       "      <td>-0.102</td>\n",
       "      <td>0.102</td>\n",
       "      <td>10</td>\n",
       "    </tr>\n",
       "    <tr>\n",
       "      <th>15</th>\n",
       "      <td>Brand_2</td>\n",
       "      <td>-0.096</td>\n",
       "      <td>0.096</td>\n",
       "      <td>11</td>\n",
       "    </tr>\n",
       "    <tr>\n",
       "      <th>10</th>\n",
       "      <td>hp_110</td>\n",
       "      <td>-0.071</td>\n",
       "      <td>0.071</td>\n",
       "      <td>12</td>\n",
       "    </tr>\n",
       "    <tr>\n",
       "      <th>24</th>\n",
       "      <td>Users_3</td>\n",
       "      <td>-0.051</td>\n",
       "      <td>0.051</td>\n",
       "      <td>13</td>\n",
       "    </tr>\n",
       "    <tr>\n",
       "      <th>22</th>\n",
       "      <td>Users_1</td>\n",
       "      <td>0.043</td>\n",
       "      <td>0.043</td>\n",
       "      <td>14</td>\n",
       "    </tr>\n",
       "    <tr>\n",
       "      <th>16</th>\n",
       "      <td>Brand_3</td>\n",
       "      <td>-0.037</td>\n",
       "      <td>0.037</td>\n",
       "      <td>15</td>\n",
       "    </tr>\n",
       "    <tr>\n",
       "      <th>17</th>\n",
       "      <td>Brand_4</td>\n",
       "      <td>0.035</td>\n",
       "      <td>0.035</td>\n",
       "      <td>16</td>\n",
       "    </tr>\n",
       "    <tr>\n",
       "      <th>27</th>\n",
       "      <td>red_NO</td>\n",
       "      <td>0.024</td>\n",
       "      <td>0.024</td>\n",
       "      <td>17</td>\n",
       "    </tr>\n",
       "    <tr>\n",
       "      <th>28</th>\n",
       "      <td>red_YES</td>\n",
       "      <td>-0.024</td>\n",
       "      <td>0.024</td>\n",
       "      <td>18</td>\n",
       "    </tr>\n",
       "    <tr>\n",
       "      <th>23</th>\n",
       "      <td>Users_2</td>\n",
       "      <td>-0.018</td>\n",
       "      <td>0.018</td>\n",
       "      <td>19</td>\n",
       "    </tr>\n",
       "    <tr>\n",
       "      <th>29</th>\n",
       "      <td>Owner_gender_F</td>\n",
       "      <td>-0.016</td>\n",
       "      <td>0.016</td>\n",
       "      <td>20</td>\n",
       "    </tr>\n",
       "  </tbody>\n",
       "</table>\n",
       "</div>"
      ],
      "text/plain": [
       "           varname  correlation  ab_corr  order\n",
       "26   Automatic_YES        0.742    0.742      1\n",
       "25    Automatic_NO       -0.742    0.742      2\n",
       "11          hp_192        0.272    0.272      3\n",
       "1              age       -0.240    0.240      4\n",
       "0       Kilometers       -0.208    0.208      5\n",
       "14         Brand_1       -0.166    0.166      6\n",
       "19         Brand_6        0.149    0.149      7\n",
       "13           hp_90       -0.145    0.145      8\n",
       "18         Brand_5        0.104    0.104      9\n",
       "12           hp_70       -0.102    0.102     10\n",
       "15         Brand_2       -0.096    0.096     11\n",
       "10          hp_110       -0.071    0.071     12\n",
       "24         Users_3       -0.051    0.051     13\n",
       "22         Users_1        0.043    0.043     14\n",
       "16         Brand_3       -0.037    0.037     15\n",
       "17         Brand_4        0.035    0.035     16\n",
       "27          red_NO        0.024    0.024     17\n",
       "28         red_YES       -0.024    0.024     18\n",
       "23         Users_2       -0.018    0.018     19\n",
       "29  Owner_gender_F       -0.016    0.016     20"
      ]
     },
     "execution_count": 109,
     "metadata": {},
     "output_type": "execute_result"
    }
   ],
   "source": [
    "corr_df['ab_corr'] = np.abs(corr_df['correlation'])\n",
    "corr_df.sort_values(by = ['ab_corr'], ascending = False, inplace = True)\n",
    "seq = range(1, len(corr_df) + 1)\n",
    "corr_df['order'] = seq\n",
    "corr_df.head(20)"
   ]
  },
  {
   "cell_type": "code",
   "execution_count": 110,
   "id": "f664a9e7",
   "metadata": {},
   "outputs": [
    {
     "name": "stdout",
     "output_type": "stream",
     "text": [
      "(33, 4)\n"
     ]
    }
   ],
   "source": [
    "print(corr_df.shape)"
   ]
  },
  {
   "cell_type": "markdown",
   "id": "75e59855",
   "metadata": {},
   "source": [
    "### Feature selection I\n",
    "By intuition let's choose the **top 20 variables based on the correlation coefficients** above, transform the data with \n",
    "the **range standardization** and put them into the **linear regression model with LASO** to select final \n",
    "candidates."
   ]
  },
  {
   "cell_type": "code",
   "execution_count": 111,
   "id": "e12623c2",
   "metadata": {},
   "outputs": [
    {
     "data": {
      "text/plain": [
       "['Automatic_YES',\n",
       " 'Automatic_NO',\n",
       " 'hp_192',\n",
       " 'age',\n",
       " 'Kilometers',\n",
       " 'Brand_1',\n",
       " 'Brand_6',\n",
       " 'hp_90',\n",
       " 'Brand_5',\n",
       " 'hp_70',\n",
       " 'Brand_2',\n",
       " 'hp_110',\n",
       " 'Users_3',\n",
       " 'Users_1',\n",
       " 'Brand_3',\n",
       " 'Brand_4',\n",
       " 'red_NO',\n",
       " 'red_YES',\n",
       " 'Users_2',\n",
       " 'Owner_gender_F']"
      ]
     },
     "execution_count": 111,
     "metadata": {},
     "output_type": "execute_result"
    }
   ],
   "source": [
    "var_names = list(corr_df.varname)[:20]         \n",
    "var_names"
   ]
  },
  {
   "cell_type": "code",
   "execution_count": 112,
   "id": "81b2044c",
   "metadata": {},
   "outputs": [],
   "source": [
    "X_train = df_fix[var_names]"
   ]
  },
  {
   "cell_type": "markdown",
   "id": "a87de364",
   "metadata": {},
   "source": [
    "#### Standardize the selected data"
   ]
  },
  {
   "cell_type": "code",
   "execution_count": 113,
   "id": "e6244b93",
   "metadata": {},
   "outputs": [
    {
     "data": {
      "text/plain": [
       "array([[  0., 100.,   0., ...,   0.,   0., 100.],\n",
       "       [100.,   0.,   0., ..., 100.,   0., 100.],\n",
       "       [100.,   0.,   0., ..., 100., 100.,   0.],\n",
       "       ...,\n",
       "       [100.,   0.,   0., ...,   0.,   0., 100.],\n",
       "       [100.,   0.,   0., ...,   0.,   0.,   0.],\n",
       "       [  0., 100., 100., ...,   0.,   0., 100.]])"
      ]
     },
     "execution_count": 113,
     "metadata": {},
     "output_type": "execute_result"
    }
   ],
   "source": [
    "min_max_scaler = preprocessing.MinMaxScaler()\n",
    "\n",
    "X_train_minmax = 100 * min_max_scaler.fit_transform(X_train)        # x100 still maintain the standardization\n",
    "X_train_minmax"
   ]
  },
  {
   "cell_type": "markdown",
   "id": "57a03e0d",
   "metadata": {},
   "source": [
    "### Feature selection ll\n",
    "We will apply **LASSO** to select final features for the model. **LASSO** is actually a fitting function (linear regression) but with *penalty*."
   ]
  },
  {
   "cell_type": "code",
   "execution_count": 114,
   "id": "c65ee7a6",
   "metadata": {},
   "outputs": [],
   "source": [
    "Y = df_fix.price"
   ]
  },
  {
   "cell_type": "code",
   "execution_count": 115,
   "id": "a1b8a9c1",
   "metadata": {},
   "outputs": [
    {
     "name": "stdout",
     "output_type": "stream",
     "text": [
      "Intercept: 13856.232616171037\n",
      "\n",
      "The first 10 coefficients:\n",
      " [ 63.95687495  -0.          25.64871009 -78.50440479  -5.54279853\n",
      " -20.88217659  17.99787225  -3.62521632  10.58179295  -8.56437428]\n"
     ]
    }
   ],
   "source": [
    "model = linear_model.Lasso(alpha = 0.1, max_iter = 10000)      \n",
    "model.fit(X_train_minmax, Y)\n",
    "\n",
    "print(f'Intercept: {model.intercept_}\\n')\n",
    "print(f'The first 10 coefficients:\\n {model.coef_[:10]}')"
   ]
  },
  {
   "cell_type": "markdown",
   "id": "990f64c0",
   "metadata": {},
   "source": [
    "Let's check the **percentiles of the coefficients** selected from LASSO and use a threshold based on this to choose a set of features."
   ]
  },
  {
   "cell_type": "code",
   "execution_count": 116,
   "id": "78df0d4b",
   "metadata": {},
   "outputs": [
    {
     "name": "stdout",
     "output_type": "stream",
     "text": [
      "The 5th percentile is: 0.0\n",
      "The 10th percentile is: 0.0\n",
      "The 15th percentile is: 0.09238365513377937\n",
      "The 20th percentile is: 0.1354532980168517\n",
      "The 25th percentile is: 0.2622089206155895\n",
      "The 30th percentile is: 1.0597675390906\n",
      "The 35th percentile is: 1.4711962489760286\n",
      "The 40th percentile is: 2.323647103896187\n",
      "The 45th percentile is: 3.2812287609470783\n",
      "The 50th percentile is: 4.562172156556429\n",
      "The 55th percentile is: 5.51877973324965\n",
      "The 60th percentile is: 6.75142883137887\n",
      "The 65th percentile is: 9.270470813281053\n",
      "The 70th percentile is: 11.434783808317999\n",
      "The 75th percentile is: 14.568289926076483\n",
      "The 80th percentile is: 18.57473312210295\n",
      "The 85th percentile is: 21.597156616346922\n",
      "The 90th percentile is: 29.4795265771032\n",
      "The 95th percentile is: 64.68425143793559\n"
     ]
    }
   ],
   "source": [
    "q = list(np.arange(5, 100, 5))\n",
    "for p in q:\n",
    "    print(f'The {p}th percentile is: {np.percentile(abs_coef, p)}')"
   ]
  },
  {
   "cell_type": "markdown",
   "id": "6eac43ea",
   "metadata": {},
   "source": [
    "As we can see about **30%** of the coefficients are less than **1**. We shall therefore select those variables whose cofficients are greater than **1**."
   ]
  },
  {
   "cell_type": "code",
   "execution_count": 117,
   "id": "612e7308",
   "metadata": {},
   "outputs": [
    {
     "name": "stdout",
     "output_type": "stream",
     "text": [
      "These 14 variables are selected based on LASSO:\n",
      "\n",
      "['Automatic_YES', 'hp_192', 'age', 'Kilometers', 'Brand_1', 'Brand_6', 'hp_90', 'Brand_5', 'hp_70', 'Brand_2', 'hp_110', 'Users_3', 'Brand_3', 'Brand_4']\n"
     ]
    }
   ],
   "source": [
    "L = len(list(model.coef_))                                          # the coefficients are in same order as var_names\n",
    "chosen_vars = [var_names[i] for i in range(L) if abs_coef[i] > 0.9]              \n",
    "print(f'These {len(chosen_vars)} variables are selected based on LASSO:\\n\\n{chosen_vars}')"
   ]
  },
  {
   "cell_type": "markdown",
   "id": "3ee83711",
   "metadata": {},
   "source": [
    "**A dataframe that contains the only variables selected from the LASSO above...**"
   ]
  },
  {
   "cell_type": "code",
   "execution_count": 118,
   "id": "57d84b2f",
   "metadata": {},
   "outputs": [
    {
     "name": "stdout",
     "output_type": "stream",
     "text": [
      "(3959, 15)\n"
     ]
    },
    {
     "data": {
      "text/html": [
       "<div>\n",
       "<style scoped>\n",
       "    .dataframe tbody tr th:only-of-type {\n",
       "        vertical-align: middle;\n",
       "    }\n",
       "\n",
       "    .dataframe tbody tr th {\n",
       "        vertical-align: top;\n",
       "    }\n",
       "\n",
       "    .dataframe thead th {\n",
       "        text-align: right;\n",
       "    }\n",
       "</style>\n",
       "<table border=\"1\" class=\"dataframe\">\n",
       "  <thead>\n",
       "    <tr style=\"text-align: right;\">\n",
       "      <th></th>\n",
       "      <th>Automatic_YES</th>\n",
       "      <th>hp_192</th>\n",
       "      <th>age</th>\n",
       "      <th>Kilometers</th>\n",
       "      <th>Brand_1</th>\n",
       "      <th>Brand_6</th>\n",
       "      <th>hp_90</th>\n",
       "      <th>Brand_5</th>\n",
       "      <th>hp_70</th>\n",
       "      <th>Brand_2</th>\n",
       "      <th>hp_110</th>\n",
       "      <th>Users_3</th>\n",
       "      <th>Brand_3</th>\n",
       "      <th>Brand_4</th>\n",
       "      <th>price</th>\n",
       "    </tr>\n",
       "  </thead>\n",
       "  <tbody>\n",
       "    <tr>\n",
       "      <th>5</th>\n",
       "      <td>0</td>\n",
       "      <td>0</td>\n",
       "      <td>9</td>\n",
       "      <td>106710.0</td>\n",
       "      <td>0</td>\n",
       "      <td>1</td>\n",
       "      <td>0</td>\n",
       "      <td>0</td>\n",
       "      <td>0</td>\n",
       "      <td>0</td>\n",
       "      <td>1</td>\n",
       "      <td>0</td>\n",
       "      <td>0</td>\n",
       "      <td>0</td>\n",
       "      <td>13940</td>\n",
       "    </tr>\n",
       "    <tr>\n",
       "      <th>6</th>\n",
       "      <td>1</td>\n",
       "      <td>0</td>\n",
       "      <td>9</td>\n",
       "      <td>8610.0</td>\n",
       "      <td>0</td>\n",
       "      <td>0</td>\n",
       "      <td>0</td>\n",
       "      <td>0</td>\n",
       "      <td>0</td>\n",
       "      <td>0</td>\n",
       "      <td>1</td>\n",
       "      <td>0</td>\n",
       "      <td>0</td>\n",
       "      <td>1</td>\n",
       "      <td>22190</td>\n",
       "    </tr>\n",
       "    <tr>\n",
       "      <th>9</th>\n",
       "      <td>1</td>\n",
       "      <td>0</td>\n",
       "      <td>9</td>\n",
       "      <td>11490.0</td>\n",
       "      <td>0</td>\n",
       "      <td>0</td>\n",
       "      <td>0</td>\n",
       "      <td>0</td>\n",
       "      <td>0</td>\n",
       "      <td>1</td>\n",
       "      <td>1</td>\n",
       "      <td>0</td>\n",
       "      <td>0</td>\n",
       "      <td>0</td>\n",
       "      <td>17290</td>\n",
       "    </tr>\n",
       "    <tr>\n",
       "      <th>12</th>\n",
       "      <td>1</td>\n",
       "      <td>0</td>\n",
       "      <td>9</td>\n",
       "      <td>15330.0</td>\n",
       "      <td>1</td>\n",
       "      <td>0</td>\n",
       "      <td>0</td>\n",
       "      <td>0</td>\n",
       "      <td>0</td>\n",
       "      <td>0</td>\n",
       "      <td>1</td>\n",
       "      <td>0</td>\n",
       "      <td>0</td>\n",
       "      <td>0</td>\n",
       "      <td>19840</td>\n",
       "    </tr>\n",
       "    <tr>\n",
       "      <th>13</th>\n",
       "      <td>0</td>\n",
       "      <td>1</td>\n",
       "      <td>11</td>\n",
       "      <td>16380.0</td>\n",
       "      <td>0</td>\n",
       "      <td>0</td>\n",
       "      <td>0</td>\n",
       "      <td>0</td>\n",
       "      <td>0</td>\n",
       "      <td>1</td>\n",
       "      <td>0</td>\n",
       "      <td>0</td>\n",
       "      <td>0</td>\n",
       "      <td>0</td>\n",
       "      <td>13230</td>\n",
       "    </tr>\n",
       "  </tbody>\n",
       "</table>\n",
       "</div>"
      ],
      "text/plain": [
       "    Automatic_YES  hp_192  age  Kilometers  Brand_1  Brand_6  hp_90  Brand_5  \\\n",
       "5               0       0    9    106710.0        0        1      0        0   \n",
       "6               1       0    9      8610.0        0        0      0        0   \n",
       "9               1       0    9     11490.0        0        0      0        0   \n",
       "12              1       0    9     15330.0        1        0      0        0   \n",
       "13              0       1   11     16380.0        0        0      0        0   \n",
       "\n",
       "    hp_70  Brand_2  hp_110  Users_3  Brand_3  Brand_4  price  \n",
       "5       0        0       1        0        0        0  13940  \n",
       "6       0        0       1        0        0        1  22190  \n",
       "9       0        1       1        0        0        0  17290  \n",
       "12      0        0       1        0        0        0  19840  \n",
       "13      0        1       0        0        0        0  13230  "
      ]
     },
     "execution_count": 118,
     "metadata": {},
     "output_type": "execute_result"
    }
   ],
   "source": [
    "chosen_vars.extend(['price'])        # include the target\n",
    "selected_df = df_fix[chosen_vars]\n",
    "\n",
    "print(selected_df.shape)\n",
    "selected_df.head()"
   ]
  },
  {
   "cell_type": "markdown",
   "id": "9e19d780",
   "metadata": {},
   "source": [
    "### Feature selection III(i)\n",
    "We shall now apply the Ordinary Least Square (**OLS**) package (or ANOVA) to **fit** the model and observe the **p values** and **coefficients** for the different variables. **OLS** is equivalent to Scikit Learn's linear regression model but it also provide **pvalues** to help in the further selection of important variables for the final model.\n",
    "\n",
    "The **p-value** tells us **if there is a correlation** between **independent variables** and **target**.\n",
    "\n",
    "The **null hypothesis H0** is that there is **no correlation** between **independent variables** and **target**. That is the **coefficients are equal to zero (no relationship)**. Also that **intercept = 0**. \n",
    "\n",
    "* A **low p-value (< 0.05)** means that the coefficient is likely **not to equal zero**. That is the **variable is strongly correlated with the target. Reject the null hypothesis**!\n",
    "\n",
    "* A **high P-value (> 0.05)** means that we **cannot** conclude that the **independent variable is correlated** with the dependent variable (**target**). That is we **fail to reject the null hypothesis**.\n",
    "* A **high p-value** is also called an **insignificant P-value**.\n",
    "\n",
    "**R-Squared** and **Adjusted R-Squared** describes how well **the linear regression model fits the data points**. A **high R-Squared** value means that many data points are close to the linear regression function line."
   ]
  },
  {
   "cell_type": "code",
   "execution_count": 119,
   "id": "5dba1494",
   "metadata": {},
   "outputs": [
    {
     "name": "stdout",
     "output_type": "stream",
     "text": [
      "                            OLS Regression Results                            \n",
      "==============================================================================\n",
      "Dep. Variable:                  price   R-squared:                       0.826\n",
      "Model:                            OLS   Adj. R-squared:                  0.825\n",
      "Method:                 Least Squares   F-statistic:                     1559.\n",
      "Date:                Fri, 13 May 2022   Prob (F-statistic):               0.00\n",
      "Time:                        07:48:14   Log-Likelihood:                -34878.\n",
      "No. Observations:                3959   AIC:                         6.978e+04\n",
      "Df Residuals:                    3946   BIC:                         6.986e+04\n",
      "Df Model:                          12                                         \n",
      "Covariance Type:            nonrobust                                         \n",
      "=================================================================================\n",
      "                    coef    std err          t      P>|t|      [0.025      0.975]\n",
      "---------------------------------------------------------------------------------\n",
      "Intercept      1.114e+04     88.494    125.897      0.000     1.1e+04    1.13e+04\n",
      "Automatic_YES  6394.9920     54.780    116.738      0.000    6287.591    6502.393\n",
      "hp_192         4975.6062     48.507    102.574      0.000    4880.504    5070.708\n",
      "age            -182.5350      7.033    -25.954      0.000    -196.324    -168.746\n",
      "Kilometers       -0.0018      0.001     -1.733      0.083      -0.004       0.000\n",
      "Brand_1         -92.1716     64.829     -1.422      0.155    -219.272      34.929\n",
      "Brand_6        3795.8119     68.240     55.624      0.000    3662.023    3929.601\n",
      "hp_90          2048.3567     48.598     42.149      0.000    1953.077    2143.637\n",
      "hp_70          1554.5152     74.191     20.953      0.000    1409.060    1699.971\n",
      "Brand_5        3054.9116     59.257     51.554      0.000    2938.735    3171.088\n",
      "Brand_2         653.4649     63.518     10.288      0.000     528.934     777.996\n",
      "hp_110         2562.7527     48.995     52.306      0.000    2466.694    2658.811\n",
      "Users_3        -135.0179    105.499     -1.280      0.201    -341.856      71.820\n",
      "Brand_4        2282.8122     50.551     45.159      0.000    2183.704    2381.920\n",
      "Brand_3        1446.4019     60.815     23.784      0.000    1327.170    1565.634\n",
      "==============================================================================\n",
      "Omnibus:                      494.136   Durbin-Watson:                   1.987\n",
      "Prob(Omnibus):                  0.000   Jarque-Bera (JB):              883.228\n",
      "Skew:                           0.822   Prob(JB):                    1.62e-192\n",
      "Kurtosis:                       4.628   Cond. No.                     5.99e+20\n",
      "==============================================================================\n",
      "\n",
      "Notes:\n",
      "[1] Standard Errors assume that the covariance matrix of the errors is correctly specified.\n",
      "[2] The smallest eigenvalue is 1.62e-28. This might indicate that there are\n",
      "strong multicollinearity problems or that the design matrix is singular.\n"
     ]
    }
   ],
   "source": [
    "ols_model = ols('price ~ Automatic_YES + hp_192 + age + Kilometers + Brand_1 + Brand_6 + hp_90 + \\\n",
    "hp_70 + Brand_5 + Brand_2 + hp_110 + Users_3 + Brand_4 + Brand_3', selected_df).fit()\n",
    "\n",
    "print(ols_model.summary())"
   ]
  },
  {
   "cell_type": "markdown",
   "id": "bbed3d38",
   "metadata": {},
   "source": [
    "The **pvalues** for the variables **Kilometers, Brand_1, Users_3** are **larger** than the threshold of **0.05**. This suggests that these variables have **no significant** impact on the target **price** and therefore cannot be used to **predict price**. The variables **Kilometers, Brand_1, Users_3** should therefore **not be included** in the final model. We **fail to reject the null hypothesis in these cases**."
   ]
  },
  {
   "cell_type": "markdown",
   "id": "50103a79",
   "metadata": {},
   "source": [
    "### Feature selection III(ii)\n",
    "Based on the **p values** above, we will select the final key drivers, use the OLS again to fit the linear regression model, observe **p values** and coefficients and finally check the **F statistics** and **R square** values."
   ]
  },
  {
   "cell_type": "code",
   "execution_count": 120,
   "id": "cddab970",
   "metadata": {},
   "outputs": [
    {
     "name": "stdout",
     "output_type": "stream",
     "text": [
      "                            OLS Regression Results                            \n",
      "==============================================================================\n",
      "Dep. Variable:                  price   R-squared:                       0.826\n",
      "Model:                            OLS   Adj. R-squared:                  0.825\n",
      "Method:                 Least Squares   F-statistic:                     1870.\n",
      "Date:                Fri, 13 May 2022   Prob (F-statistic):               0.00\n",
      "Time:                        07:57:57   Log-Likelihood:                -34880.\n",
      "No. Observations:                3959   AIC:                         6.978e+04\n",
      "Df Residuals:                    3948   BIC:                         6.985e+04\n",
      "Df Model:                          10                                         \n",
      "Covariance Type:            nonrobust                                         \n",
      "=================================================================================\n",
      "                    coef    std err          t      P>|t|      [0.025      0.975]\n",
      "---------------------------------------------------------------------------------\n",
      "Intercept      1.112e+04    109.144    101.866      0.000    1.09e+04    1.13e+04\n",
      "Automatic_YES  6396.7320     54.791    116.748      0.000    6289.311    6504.153\n",
      "hp_192         4971.2774     50.263     98.906      0.000    4872.734    5069.821\n",
      "age            -193.0222      4.155    -46.460      0.000    -201.168    -184.877\n",
      "Brand_6        3890.7732    101.938     38.168      0.000    3690.918    4090.628\n",
      "hp_90          2043.0890     51.178     39.922      0.000    1942.752    2143.426\n",
      "hp_70          1549.9419     76.483     20.265      0.000    1399.993    1699.891\n",
      "Brand_5        3150.4847     93.780     33.594      0.000    2966.623    3334.347\n",
      "Brand_2         749.6560     98.235      7.631      0.000     557.059     942.253\n",
      "hp_110         2553.7354     51.454     49.631      0.000    2452.856    2654.615\n",
      "Brand_4        2377.4724     86.260     27.562      0.000    2208.354    2546.591\n",
      "Brand_3        1542.1963     95.208     16.198      0.000    1355.535    1728.857\n",
      "==============================================================================\n",
      "Omnibus:                      491.965   Durbin-Watson:                   1.988\n",
      "Prob(Omnibus):                  0.000   Jarque-Bera (JB):              877.075\n",
      "Skew:                           0.820   Prob(JB):                    3.51e-191\n",
      "Kurtosis:                       4.620   Cond. No.                     7.16e+16\n",
      "==============================================================================\n",
      "\n",
      "Notes:\n",
      "[1] Standard Errors assume that the covariance matrix of the errors is correctly specified.\n",
      "[2] The smallest eigenvalue is 6.07e-28. This might indicate that there are\n",
      "strong multicollinearity problems or that the design matrix is singular.\n"
     ]
    }
   ],
   "source": [
    "ols_model = ols('price ~ Automatic_YES + hp_192 + age + Brand_6 + hp_90 + \\\n",
    "hp_70 + Brand_5 + Brand_2 + hp_110 + Brand_4 + Brand_3', selected_df).fit()\n",
    "\n",
    "print(ols_model.summary())"
   ]
  },
  {
   "cell_type": "markdown",
   "id": "fe9de0f4",
   "metadata": {},
   "source": [
    "#### The Coefficients"
   ]
  },
  {
   "cell_type": "code",
   "execution_count": 125,
   "id": "ca89df9e",
   "metadata": {},
   "outputs": [
    {
     "name": "stdout",
     "output_type": "stream",
     "text": [
      "R^2 = 0.8256512467243898\n",
      "Good model\n",
      "\n",
      "Intercept = 11118.04365201206\n",
      "\n",
      "Coefficients(OLS):\n",
      "age = -193.02222210130628\n",
      "Automatic_YES = 6396.731978660648\n",
      "Brand_2 = 749.6559840664681\n",
      "Brand_3 = 1542.1962607656596\n",
      "Brand_4 = 2377.4724261549304\n",
      "Brand_5 = 3150.4847334453875\n",
      "Brand_6 = 3890.7732171533476\n",
      "hp_70 = 1549.9419345994502\n",
      "hp_90 = 2043.0889892389964\n",
      "hp_110 = 2553.735369247657\n",
      "hp_192 = 4971.27735892591\n"
     ]
    }
   ],
   "source": [
    "r_square = ols_model.rsquared\n",
    "print(f'R^2 = {r_square}')\n",
    "pvalue_model = ols_model.f_pvalue\n",
    "\n",
    "intercept = ols_model.params['Intercept']\n",
    "coef_age = ols_model.params['age']\n",
    "coef_Automatic_YES = ols_model.params['Automatic_YES']\n",
    "coef_Brand_2 = ols_model.params['Brand_2']\n",
    "coef_Brand_3 = ols_model.params['Brand_3']\n",
    "coef_Brand_4 = ols_model.params['Brand_4']\n",
    "coef_Brand_5 = ols_model.params['Brand_5']\n",
    "coef_Brand_6 = ols_model.params['Brand_6']\n",
    "coef_hp_70 = ols_model.params['hp_70']\n",
    "coef_hp_90 = ols_model.params['hp_90']\n",
    "coef_hp_110 = ols_model.params['hp_110']\n",
    "coef_hp_192 = ols_model.params['hp_192']\n",
    "\n",
    "coef_names = ['age', 'Automatic_YES', 'Brand_2', 'Brand_3', 'Brand_4', 'Brand_5', 'Brand_6', \n",
    "              'hp_70', 'hp_90', 'hp_110', 'hp_192']\n",
    "coefficients = [coef_age, coef_Automatic_YES, coef_Brand_2, coef_Brand_3, coef_Brand_4, coef_Brand_5, coef_Brand_6,\n",
    "               coef_hp_70, coef_hp_90, coef_hp_110, coef_hp_192]\n",
    "\n",
    "alpha = 0.05\n",
    "if pvalue_model <= alpha:\n",
    "    print('Good model')\n",
    "else:\n",
    "    print('Bad model')\n",
    "\n",
    "print(f'\\nIntercept = {intercept}\\n')\n",
    "print(f'Coefficients(OLS):')\n",
    "for name, coef in zip(coef_names, coefficients):\n",
    "    print(f'{name} = {coef}')"
   ]
  },
  {
   "cell_type": "markdown",
   "id": "ad8b7bab",
   "metadata": {},
   "source": [
    "The model **pvalue** and **R^2** indicate that the model is good!\n",
    "### Model with scikit learn\n",
    "We shall now use Scikit Learn's **`LinearRegression`** to fit the model and compare the output with those obtained from OLS."
   ]
  },
  {
   "cell_type": "code",
   "execution_count": 126,
   "id": "441fffff",
   "metadata": {},
   "outputs": [
    {
     "name": "stdout",
     "output_type": "stream",
     "text": [
      "Intercept = -3.1339685574356724e+16\n",
      "\n",
      "Coefficients(SKLearn):\n",
      "age = -8309.98282326408\n",
      "Automatic_YES = 6398.869277429682\n",
      "Brand_2 = 759.5548110654736\n",
      "Brand_3 = 1538.0097818397346\n",
      "Brand_4 = 2376.850870246096\n",
      "Brand_5 = 3146.2898745475113\n",
      "Brand_6 = 3893.064383284383\n",
      "hp_70 = 3.1339685574367668e+16\n",
      "hp_90 = 3.1339685574368144e+16\n",
      "hp_110 = 3.133968557436867e+16\n",
      "hp_192 = 3.1339685574371068e+16\n"
     ]
    }
   ],
   "source": [
    "#final = ['Automatic_YES', 'hp_192', 'age', 'Brand_6', 'hp_90', 'hp_70', 'Brand_5', 'Brand_2', 'hp_110', 'Brand_4', 'Brand_3']\n",
    "final = ['age', 'Automatic_YES', 'Brand_2', 'Brand_3', 'Brand_4', 'Brand_5', 'Brand_6', 'hp_70', 'hp_90', 'hp_110', 'hp_192']\n",
    "\n",
    "X = selected_df[final]\n",
    "Y = selected_df.price\n",
    "\n",
    "min_max_scaler = preprocessing.MinMaxScaler()\n",
    "X_train_minmax = min_max_scaler.fit_transform(X)\n",
    "\n",
    "lin_reg= linear_model.LinearRegression()\n",
    "lin_reg.fit(X_train_minmax, Y)\n",
    "#print(f'Intercept: {lin_reg.intercept_}\\n\\nCoefficients:\\n{lin_reg.coef_}')\n",
    "\n",
    "print(f'Intercept = {lin_reg.intercept_}\\n')\n",
    "print(f'Coefficients(SKLearn):')\n",
    "for name, coef in zip(final, lin_reg.coef_):\n",
    "    print(f'{name} = {coef}')"
   ]
  },
  {
   "cell_type": "markdown",
   "id": "fa885f3b",
   "metadata": {},
   "source": [
    "#### Get the predictions and calculate statistics.\n",
    "Conduct **model prediction** to predict car prices in the training data set. Find prediction errors of all \n",
    "observations in the training data. Calculate MSE, SST, MSE and F statistics values, and compare these \n",
    "results with the previous outputs from the OLS package"
   ]
  },
  {
   "cell_type": "code",
   "execution_count": 127,
   "id": "9751358a",
   "metadata": {},
   "outputs": [
    {
     "name": "stdout",
     "output_type": "stream",
     "text": [
      "R square: 0.825\n",
      "RMSLE is 1622.1451655495218\n"
     ]
    }
   ],
   "source": [
    "y_pred = lin_reg.predict(X_train_minmax)\n",
    "y_avg = np.mean(Y)\n",
    "y_pred_avg = np.mean(y_pred)\n",
    "r_sq = np.sum((y_pred - y_pred_avg) ** 2) / np.sum((Y - y_avg) ** 2)\n",
    "print('R square:', np.round(r_sq, 3))\n",
    "\n",
    "# get Root Mean Squared Logarithmic Error\n",
    "num_rows = len(X)   # X.shape[0]\n",
    "RMSLE  = np.sqrt(np.sum((y_pred - Y)**2) / num_rows )\n",
    "print('RMSLE is ' + str(RMSLE))"
   ]
  },
  {
   "cell_type": "markdown",
   "id": "63f1127d",
   "metadata": {},
   "source": [
    "### Visualize the results\n",
    "#### Scatter plot of the price prediction and prediction error\n",
    "A scatter plot of prediction (**y_pred**) and prediction error or residue **(Y - y_pred)** for a good model should show no visible relationship, it should be *noisy*!"
   ]
  },
  {
   "cell_type": "code",
   "execution_count": 128,
   "id": "fcfe3505",
   "metadata": {},
   "outputs": [
    {
     "data": {
      "image/png": "[encoded data removed]",
      "text/plain": [
       "<Figure size 432x288 with 1 Axes>"
      ]
     },
     "metadata": {},
     "output_type": "display_data"
    }
   ],
   "source": [
    "residue = y_pred - Y\n",
    "sns.scatterplot(x = y_pred, y = residue, size = 8)\n",
    "\n",
    "plt.title('Scatter plot Car Price Prediction Vs Residual')\n",
    "plt.xlabel('Prediction')\n",
    "plt.ylabel('Error')\n",
    "plt.show() "
   ]
  },
  {
   "cell_type": "markdown",
   "id": "f1adad76",
   "metadata": {},
   "source": [
    "**Scatter plot of actual price (Y) and prediction (y_pred) showing the regression line**"
   ]
  },
  {
   "cell_type": "code",
   "execution_count": 129,
   "id": "95c8ee3a",
   "metadata": {},
   "outputs": [
    {
     "data": {
      "image/png": "[encoded data removed]",
      "text/plain": [
       "<Figure size 576x576 with 1 Axes>"
      ]
     },
     "metadata": {},
     "output_type": "display_data"
    }
   ],
   "source": [
    "selected_df['pred'] = y_pred\n",
    "sns.lmplot(x = 'pred', y = 'price', data = selected_df, fit_reg = True, height = 8) \n",
    "plt.show()"
   ]
  },
  {
   "cell_type": "markdown",
   "id": "89cc531d",
   "metadata": {},
   "source": [
    "From the plot above it can be seen that the model finds it **harder to predict higher car prices**.\n",
    "#### Scatter plot with raw data points and two regression lines based on Automatic = 'YES' and Automatic= 'No'"
   ]
  },
  {
   "cell_type": "code",
   "execution_count": 130,
   "id": "77ae903c",
   "metadata": {},
   "outputs": [
    {
     "data": {
      "image/png": "[encoded data removed]",
      "text/plain": [
       "<Figure size 668.8x576 with 1 Axes>"
      ]
     },
     "metadata": {},
     "output_type": "display_data"
    }
   ],
   "source": [
    "sns.lmplot(x = 'pred', y = 'price', data = selected_df, fit_reg = True, height = 8, hue = 'Automatic_YES')\n",
    "plt.show()"
   ]
  },
  {
   "cell_type": "markdown",
   "id": "4a09f72d",
   "metadata": {},
   "source": [
    "The plot of **price prediction Vs prediction error** shows **no relationship** as expected. This is another proof that the model is working. In statistics the error and the prediction are **orthogonal**. This means the error cannot be predicted. Had it been there was a pattern this would have suggested that the error can still be predicted. "
   ]
  },
  {
   "cell_type": "code",
   "execution_count": null,
   "id": "6d032d94",
   "metadata": {},
   "outputs": [],
   "source": []
  }
 ],
 "metadata": {
  "kernelspec": {
   "display_name": "Python 3 (ipykernel)",
   "language": "python",
   "name": "python3"
  },
  "language_info": {
   "codemirror_mode": {
    "name": "ipython",
    "version": 3
   },
   "file_extension": ".py",
   "mimetype": "text/x-python",
   "name": "python",
   "nbconvert_exporter": "python",
   "pygments_lexer": "ipython3",
   "version": "3.9.7"
  }
 },
 "nbformat": 4,
 "nbformat_minor": 5
}
